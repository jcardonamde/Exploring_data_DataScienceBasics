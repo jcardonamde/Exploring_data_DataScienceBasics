{
  "nbformat": 4,
  "nbformat_minor": 0,
  "metadata": {
    "colab": {
      "provenance": [],
      "toc_visible": true,
      "authorship_tag": "ABX9TyPVa9Nj4q/e0T6ugFyUjTCI",
      "include_colab_link": true
    },
    "kernelspec": {
      "name": "python3",
      "display_name": "Python 3"
    },
    "language_info": {
      "name": "python"
    }
  },
  "cells": [
    {
      "cell_type": "markdown",
      "metadata": {
        "id": "view-in-github",
        "colab_type": "text"
      },
      "source": [
        "<a href=\"https://colab.research.google.com/github/jcardonamde/Exploring_data_DataScienceBasics/blob/main/Exploring_data_DataScienceBasics.ipynb\" target=\"_parent\"><img src=\"https://colab.research.google.com/assets/colab-badge.svg\" alt=\"Open In Colab\"/></a>"
      ]
    },
    {
      "cell_type": "code",
      "source": [
        "# Inicialmente damos permito al aplicativo Drive para permitirnos acceder a nuestro dataset\n",
        "from google.colab import drive\n",
        "drive.mount('/content/drive')"
      ],
      "metadata": {
        "colab": {
          "base_uri": "https://localhost:8080/"
        },
        "id": "3s-eCO5Q8du2",
        "outputId": "3b86046b-99a3-4d4e-a64f-e160486760da"
      },
      "execution_count": 1,
      "outputs": [
        {
          "output_type": "stream",
          "name": "stdout",
          "text": [
            "Mounted at /content/drive\n"
          ]
        }
      ]
    },
    {
      "cell_type": "code",
      "source": [
        "# Importamos la libreria Pandas, la cual usaremos en nuestro proceso de limpieza de los datos\n",
        "import pandas as pd"
      ],
      "metadata": {
        "id": "xxlSRAta8qmq"
      },
      "execution_count": 2,
      "outputs": []
    },
    {
      "cell_type": "code",
      "source": [
        "# Importamos nuestro dataset para iniciar la exploración\n",
        "filename = ('/content/drive/MyDrive/Colab Notebooks/Codificación de Dojo/Semana02/Examen Cinturon/Mod_employee_attrition.xlsx')\n",
        "df = pd.read_excel(filename)\n",
        "df.head()"
      ],
      "metadata": {
        "colab": {
          "base_uri": "https://localhost:8080/",
          "height": 369
        },
        "id": "IgcSzqfD8yWZ",
        "outputId": "7bc9ae1c-84f7-43ae-a566-9c937706fdba"
      },
      "execution_count": 3,
      "outputs": [
        {
          "output_type": "execute_result",
          "data": {
            "text/plain": [
              "    Age Attrition     BusinessTravel              Department  \\\n",
              "0  41.0       Yes      Travel_Rarely                   Sales   \n",
              "1  49.0        No  Travel_Frequently  Research & Development   \n",
              "2  37.0       Yes      Travel_Rarely  Research & Development   \n",
              "3  33.0        No  Travel_Frequently  Research & Development   \n",
              "4  27.0        No      Travel_Rarely  Research & Development   \n",
              "\n",
              "   DistanceFromHome  Education EducationField  EmployeeCount  EmployeeNumber  \\\n",
              "0               1.0        2.0  Life Sciences            1.0             1.0   \n",
              "1               8.0        1.0  Life Sciences            1.0             2.0   \n",
              "2               2.0        2.0          Other            1.0             4.0   \n",
              "3               3.0        4.0  Life Sciences            1.0             5.0   \n",
              "4               2.0        1.0        Medical            1.0             7.0   \n",
              "\n",
              "   EnvironmentSatisfaction  ... RelationshipSatisfaction StandardHours  \\\n",
              "0                      2.0  ...                      1.0          80.0   \n",
              "1                      3.0  ...                      4.0          80.0   \n",
              "2                      4.0  ...                      2.0          80.0   \n",
              "3                      4.0  ...                      3.0          80.0   \n",
              "4                      1.0  ...                      4.0          80.0   \n",
              "\n",
              "   StockOptionLevel  TotalWorkingYears TrainingTimesLastYear  WorkLifeBalance  \\\n",
              "0               0.0                8.0                   0.0              1.0   \n",
              "1               1.0               10.0                   3.0              3.0   \n",
              "2               0.0                7.0                   3.0              3.0   \n",
              "3               0.0                8.0                   3.0              3.0   \n",
              "4               1.0                6.0                   3.0              3.0   \n",
              "\n",
              "  YearsAtCompany  YearsInCurrentRole  YearsSinceLastPromotion  \\\n",
              "0            6.0                 4.0                      0.0   \n",
              "1           10.0                 7.0                      1.0   \n",
              "2            0.0                 0.0                      0.0   \n",
              "3            8.0                 7.0                      3.0   \n",
              "4            2.0                 2.0                      2.0   \n",
              "\n",
              "   YearsWithCurrManager  \n",
              "0                   5.0  \n",
              "1                   7.0  \n",
              "2                   0.0  \n",
              "3                   0.0  \n",
              "4                   2.0  \n",
              "\n",
              "[5 rows x 35 columns]"
            ],
            "text/html": [
              "\n",
              "  <div id=\"df-87f9b992-c2e3-42e7-b295-3a02f4bbf92c\">\n",
              "    <div class=\"colab-df-container\">\n",
              "      <div>\n",
              "<style scoped>\n",
              "    .dataframe tbody tr th:only-of-type {\n",
              "        vertical-align: middle;\n",
              "    }\n",
              "\n",
              "    .dataframe tbody tr th {\n",
              "        vertical-align: top;\n",
              "    }\n",
              "\n",
              "    .dataframe thead th {\n",
              "        text-align: right;\n",
              "    }\n",
              "</style>\n",
              "<table border=\"1\" class=\"dataframe\">\n",
              "  <thead>\n",
              "    <tr style=\"text-align: right;\">\n",
              "      <th></th>\n",
              "      <th>Age</th>\n",
              "      <th>Attrition</th>\n",
              "      <th>BusinessTravel</th>\n",
              "      <th>Department</th>\n",
              "      <th>DistanceFromHome</th>\n",
              "      <th>Education</th>\n",
              "      <th>EducationField</th>\n",
              "      <th>EmployeeCount</th>\n",
              "      <th>EmployeeNumber</th>\n",
              "      <th>EnvironmentSatisfaction</th>\n",
              "      <th>...</th>\n",
              "      <th>RelationshipSatisfaction</th>\n",
              "      <th>StandardHours</th>\n",
              "      <th>StockOptionLevel</th>\n",
              "      <th>TotalWorkingYears</th>\n",
              "      <th>TrainingTimesLastYear</th>\n",
              "      <th>WorkLifeBalance</th>\n",
              "      <th>YearsAtCompany</th>\n",
              "      <th>YearsInCurrentRole</th>\n",
              "      <th>YearsSinceLastPromotion</th>\n",
              "      <th>YearsWithCurrManager</th>\n",
              "    </tr>\n",
              "  </thead>\n",
              "  <tbody>\n",
              "    <tr>\n",
              "      <th>0</th>\n",
              "      <td>41.0</td>\n",
              "      <td>Yes</td>\n",
              "      <td>Travel_Rarely</td>\n",
              "      <td>Sales</td>\n",
              "      <td>1.0</td>\n",
              "      <td>2.0</td>\n",
              "      <td>Life Sciences</td>\n",
              "      <td>1.0</td>\n",
              "      <td>1.0</td>\n",
              "      <td>2.0</td>\n",
              "      <td>...</td>\n",
              "      <td>1.0</td>\n",
              "      <td>80.0</td>\n",
              "      <td>0.0</td>\n",
              "      <td>8.0</td>\n",
              "      <td>0.0</td>\n",
              "      <td>1.0</td>\n",
              "      <td>6.0</td>\n",
              "      <td>4.0</td>\n",
              "      <td>0.0</td>\n",
              "      <td>5.0</td>\n",
              "    </tr>\n",
              "    <tr>\n",
              "      <th>1</th>\n",
              "      <td>49.0</td>\n",
              "      <td>No</td>\n",
              "      <td>Travel_Frequently</td>\n",
              "      <td>Research &amp; Development</td>\n",
              "      <td>8.0</td>\n",
              "      <td>1.0</td>\n",
              "      <td>Life Sciences</td>\n",
              "      <td>1.0</td>\n",
              "      <td>2.0</td>\n",
              "      <td>3.0</td>\n",
              "      <td>...</td>\n",
              "      <td>4.0</td>\n",
              "      <td>80.0</td>\n",
              "      <td>1.0</td>\n",
              "      <td>10.0</td>\n",
              "      <td>3.0</td>\n",
              "      <td>3.0</td>\n",
              "      <td>10.0</td>\n",
              "      <td>7.0</td>\n",
              "      <td>1.0</td>\n",
              "      <td>7.0</td>\n",
              "    </tr>\n",
              "    <tr>\n",
              "      <th>2</th>\n",
              "      <td>37.0</td>\n",
              "      <td>Yes</td>\n",
              "      <td>Travel_Rarely</td>\n",
              "      <td>Research &amp; Development</td>\n",
              "      <td>2.0</td>\n",
              "      <td>2.0</td>\n",
              "      <td>Other</td>\n",
              "      <td>1.0</td>\n",
              "      <td>4.0</td>\n",
              "      <td>4.0</td>\n",
              "      <td>...</td>\n",
              "      <td>2.0</td>\n",
              "      <td>80.0</td>\n",
              "      <td>0.0</td>\n",
              "      <td>7.0</td>\n",
              "      <td>3.0</td>\n",
              "      <td>3.0</td>\n",
              "      <td>0.0</td>\n",
              "      <td>0.0</td>\n",
              "      <td>0.0</td>\n",
              "      <td>0.0</td>\n",
              "    </tr>\n",
              "    <tr>\n",
              "      <th>3</th>\n",
              "      <td>33.0</td>\n",
              "      <td>No</td>\n",
              "      <td>Travel_Frequently</td>\n",
              "      <td>Research &amp; Development</td>\n",
              "      <td>3.0</td>\n",
              "      <td>4.0</td>\n",
              "      <td>Life Sciences</td>\n",
              "      <td>1.0</td>\n",
              "      <td>5.0</td>\n",
              "      <td>4.0</td>\n",
              "      <td>...</td>\n",
              "      <td>3.0</td>\n",
              "      <td>80.0</td>\n",
              "      <td>0.0</td>\n",
              "      <td>8.0</td>\n",
              "      <td>3.0</td>\n",
              "      <td>3.0</td>\n",
              "      <td>8.0</td>\n",
              "      <td>7.0</td>\n",
              "      <td>3.0</td>\n",
              "      <td>0.0</td>\n",
              "    </tr>\n",
              "    <tr>\n",
              "      <th>4</th>\n",
              "      <td>27.0</td>\n",
              "      <td>No</td>\n",
              "      <td>Travel_Rarely</td>\n",
              "      <td>Research &amp; Development</td>\n",
              "      <td>2.0</td>\n",
              "      <td>1.0</td>\n",
              "      <td>Medical</td>\n",
              "      <td>1.0</td>\n",
              "      <td>7.0</td>\n",
              "      <td>1.0</td>\n",
              "      <td>...</td>\n",
              "      <td>4.0</td>\n",
              "      <td>80.0</td>\n",
              "      <td>1.0</td>\n",
              "      <td>6.0</td>\n",
              "      <td>3.0</td>\n",
              "      <td>3.0</td>\n",
              "      <td>2.0</td>\n",
              "      <td>2.0</td>\n",
              "      <td>2.0</td>\n",
              "      <td>2.0</td>\n",
              "    </tr>\n",
              "  </tbody>\n",
              "</table>\n",
              "<p>5 rows × 35 columns</p>\n",
              "</div>\n",
              "      <button class=\"colab-df-convert\" onclick=\"convertToInteractive('df-87f9b992-c2e3-42e7-b295-3a02f4bbf92c')\"\n",
              "              title=\"Convert this dataframe to an interactive table.\"\n",
              "              style=\"display:none;\">\n",
              "        \n",
              "  <svg xmlns=\"http://www.w3.org/2000/svg\" height=\"24px\"viewBox=\"0 0 24 24\"\n",
              "       width=\"24px\">\n",
              "    <path d=\"M0 0h24v24H0V0z\" fill=\"none\"/>\n",
              "    <path d=\"M18.56 5.44l.94 2.06.94-2.06 2.06-.94-2.06-.94-.94-2.06-.94 2.06-2.06.94zm-11 1L8.5 8.5l.94-2.06 2.06-.94-2.06-.94L8.5 2.5l-.94 2.06-2.06.94zm10 10l.94 2.06.94-2.06 2.06-.94-2.06-.94-.94-2.06-.94 2.06-2.06.94z\"/><path d=\"M17.41 7.96l-1.37-1.37c-.4-.4-.92-.59-1.43-.59-.52 0-1.04.2-1.43.59L10.3 9.45l-7.72 7.72c-.78.78-.78 2.05 0 2.83L4 21.41c.39.39.9.59 1.41.59.51 0 1.02-.2 1.41-.59l7.78-7.78 2.81-2.81c.8-.78.8-2.07 0-2.86zM5.41 20L4 18.59l7.72-7.72 1.47 1.35L5.41 20z\"/>\n",
              "  </svg>\n",
              "      </button>\n",
              "      \n",
              "  <style>\n",
              "    .colab-df-container {\n",
              "      display:flex;\n",
              "      flex-wrap:wrap;\n",
              "      gap: 12px;\n",
              "    }\n",
              "\n",
              "    .colab-df-convert {\n",
              "      background-color: #E8F0FE;\n",
              "      border: none;\n",
              "      border-radius: 50%;\n",
              "      cursor: pointer;\n",
              "      display: none;\n",
              "      fill: #1967D2;\n",
              "      height: 32px;\n",
              "      padding: 0 0 0 0;\n",
              "      width: 32px;\n",
              "    }\n",
              "\n",
              "    .colab-df-convert:hover {\n",
              "      background-color: #E2EBFA;\n",
              "      box-shadow: 0px 1px 2px rgba(60, 64, 67, 0.3), 0px 1px 3px 1px rgba(60, 64, 67, 0.15);\n",
              "      fill: #174EA6;\n",
              "    }\n",
              "\n",
              "    [theme=dark] .colab-df-convert {\n",
              "      background-color: #3B4455;\n",
              "      fill: #D2E3FC;\n",
              "    }\n",
              "\n",
              "    [theme=dark] .colab-df-convert:hover {\n",
              "      background-color: #434B5C;\n",
              "      box-shadow: 0px 1px 3px 1px rgba(0, 0, 0, 0.15);\n",
              "      filter: drop-shadow(0px 1px 2px rgba(0, 0, 0, 0.3));\n",
              "      fill: #FFFFFF;\n",
              "    }\n",
              "  </style>\n",
              "\n",
              "      <script>\n",
              "        const buttonEl =\n",
              "          document.querySelector('#df-87f9b992-c2e3-42e7-b295-3a02f4bbf92c button.colab-df-convert');\n",
              "        buttonEl.style.display =\n",
              "          google.colab.kernel.accessAllowed ? 'block' : 'none';\n",
              "\n",
              "        async function convertToInteractive(key) {\n",
              "          const element = document.querySelector('#df-87f9b992-c2e3-42e7-b295-3a02f4bbf92c');\n",
              "          const dataTable =\n",
              "            await google.colab.kernel.invokeFunction('convertToInteractive',\n",
              "                                                     [key], {});\n",
              "          if (!dataTable) return;\n",
              "\n",
              "          const docLinkHtml = 'Like what you see? Visit the ' +\n",
              "            '<a target=\"_blank\" href=https://colab.research.google.com/notebooks/data_table.ipynb>data table notebook</a>'\n",
              "            + ' to learn more about interactive tables.';\n",
              "          element.innerHTML = '';\n",
              "          dataTable['output_type'] = 'display_data';\n",
              "          await google.colab.output.renderOutput(dataTable, element);\n",
              "          const docLink = document.createElement('div');\n",
              "          docLink.innerHTML = docLinkHtml;\n",
              "          element.appendChild(docLink);\n",
              "        }\n",
              "      </script>\n",
              "    </div>\n",
              "  </div>\n",
              "  "
            ]
          },
          "metadata": {},
          "execution_count": 3
        }
      ]
    },
    {
      "cell_type": "markdown",
      "source": [
        "# **1) The first step in this process is to use Python to clean the data to get it ready for analysis. You must:**\n",
        "\n",
        "* Identify and address any duplicate values\n",
        "\n",
        "* Identify and address any missing values in this dataset. Deal with these appropriately. Include a brief description of the     method you used to deal with missing values along with a justification for that method.\n",
        "\n",
        "* Ensure all columns match the data types listed in the data dictionary.\n",
        "\n",
        "* Identify and address any inconsistencies in categorical values (example: cat, Cat, cats)\n",
        "\n",
        "* Identify and address any inappropriate or unusual data points (example: age cannot be 325)"
      ],
      "metadata": {
        "id": "l1FnCXZE-U8L"
      }
    },
    {
      "cell_type": "code",
      "source": [
        "# Inicialmente verificamos si en el dataframe tenemos datos duplicados. \n",
        "# Por lo que usamos el método Duplicated junto al de Sum para obtener la cantidad de datos que se repiten.\n",
        "df.duplicated()\n",
        "df.duplicated().sum()"
      ],
      "metadata": {
        "colab": {
          "base_uri": "https://localhost:8080/"
        },
        "id": "iiY-ZEFu-veQ",
        "outputId": "c6fd8e31-392f-42d1-fc23-22869e81c3cb"
      },
      "execution_count": 4,
      "outputs": [
        {
          "output_type": "execute_result",
          "data": {
            "text/plain": [
              "5"
            ]
          },
          "metadata": {},
          "execution_count": 4
        }
      ]
    },
    {
      "cell_type": "markdown",
      "source": [
        "Como pudimos identificar en el paso anterior tenemos 5 filas repetidas. Asi que vamos a remover dichos duplicados para que no interfieran en nuestro analisis."
      ],
      "metadata": {
        "id": "iYEgszHz_Vg2"
      }
    },
    {
      "cell_type": "code",
      "source": [
        "# Usamos el metodo drop_duplicates para realizar esta acción.\n",
        "# Por consiguiente volvemos a lanzar una sumatoria de si se encuentra aún duplicados.\n",
        "df = df.drop_duplicates()\n",
        "df.duplicated().sum()"
      ],
      "metadata": {
        "colab": {
          "base_uri": "https://localhost:8080/"
        },
        "id": "EnFIOBf0_T5Y",
        "outputId": "47a15b54-bfb1-4376-ec49-e62f88f33262"
      },
      "execution_count": 5,
      "outputs": [
        {
          "output_type": "execute_result",
          "data": {
            "text/plain": [
              "0"
            ]
          },
          "metadata": {},
          "execution_count": 5
        }
      ]
    },
    {
      "cell_type": "markdown",
      "source": [
        "\n",
        "\n",
        "---\n",
        "\n"
      ],
      "metadata": {
        "id": "kDZtufuQUYSQ"
      }
    },
    {
      "cell_type": "markdown",
      "source": [
        "Perfecto, al momento ya no contamos con datos duplicados. Ahora vamos a identificar si el dataset tiene datos faltantes que debamos abordar y corregir."
      ],
      "metadata": {
        "id": "wqiIi20o_wc8"
      }
    },
    {
      "cell_type": "code",
      "source": [
        "# Inicialmente examino el número de valores unicos entre las columnas con las cuales estamos trabajando\n",
        "df.nunique()"
      ],
      "metadata": {
        "colab": {
          "base_uri": "https://localhost:8080/"
        },
        "id": "y-JNiIXdAUTI",
        "outputId": "72033960-c856-4244-e534-a0cc923ad2af"
      },
      "execution_count": 6,
      "outputs": [
        {
          "output_type": "execute_result",
          "data": {
            "text/plain": [
              "Age                           44\n",
              "Attrition                      2\n",
              "BusinessTravel                 3\n",
              "Department                     3\n",
              "DistanceFromHome              29\n",
              "Education                      5\n",
              "EducationField                 6\n",
              "EmployeeCount                  1\n",
              "EmployeeNumber              1470\n",
              "EnvironmentSatisfaction        4\n",
              "Gender                         1\n",
              "HourlyRate                    72\n",
              "JobInvolvement                 4\n",
              "JobLevel                       5\n",
              "JobRole                        9\n",
              "JobSatisfaction                4\n",
              "MaritalStatus                  3\n",
              "DailyRate                     71\n",
              "WeeklyRate                    71\n",
              "YearlyRate                    71\n",
              "NumCompaniesWorked            10\n",
              "Over18                         1\n",
              "OverTime                       2\n",
              "PercentSalaryHike             15\n",
              "PerformanceRating              2\n",
              "RelationshipSatisfaction       4\n",
              "StandardHours                  1\n",
              "StockOptionLevel               4\n",
              "TotalWorkingYears             40\n",
              "TrainingTimesLastYear          7\n",
              "WorkLifeBalance                4\n",
              "YearsAtCompany                38\n",
              "YearsInCurrentRole            19\n",
              "YearsSinceLastPromotion       16\n",
              "YearsWithCurrManager          18\n",
              "dtype: int64"
            ]
          },
          "metadata": {},
          "execution_count": 6
        }
      ]
    },
    {
      "cell_type": "code",
      "source": [
        "# Tambien revisamos el numero de valores que se tienen por Columna y su tipo de Dato\n",
        "df.info()"
      ],
      "metadata": {
        "colab": {
          "base_uri": "https://localhost:8080/"
        },
        "id": "-h8-JhuJAcEt",
        "outputId": "8e61c15b-407a-4ab9-e125-ea692e87cd88"
      },
      "execution_count": 7,
      "outputs": [
        {
          "output_type": "stream",
          "name": "stdout",
          "text": [
            "<class 'pandas.core.frame.DataFrame'>\n",
            "Int64Index: 1470 entries, 0 to 1474\n",
            "Data columns (total 35 columns):\n",
            " #   Column                    Non-Null Count  Dtype  \n",
            "---  ------                    --------------  -----  \n",
            " 0   Age                       1470 non-null   float64\n",
            " 1   Attrition                 1470 non-null   object \n",
            " 2   BusinessTravel            1470 non-null   object \n",
            " 3   Department                1470 non-null   object \n",
            " 4   DistanceFromHome          1470 non-null   float64\n",
            " 5   Education                 1470 non-null   float64\n",
            " 6   EducationField            1470 non-null   object \n",
            " 7   EmployeeCount             1470 non-null   float64\n",
            " 8   EmployeeNumber            1470 non-null   float64\n",
            " 9   EnvironmentSatisfaction   1470 non-null   float64\n",
            " 10  Gender                    588 non-null    object \n",
            " 11  HourlyRate                1470 non-null   object \n",
            " 12  JobInvolvement            1470 non-null   float64\n",
            " 13  JobLevel                  1470 non-null   float64\n",
            " 14  JobRole                   1470 non-null   object \n",
            " 15  JobSatisfaction           1470 non-null   float64\n",
            " 16  MaritalStatus             1470 non-null   object \n",
            " 17  DailyRate                 1470 non-null   int64  \n",
            " 18  WeeklyRate                1470 non-null   int64  \n",
            " 19  YearlyRate                1470 non-null   int64  \n",
            " 20  NumCompaniesWorked        1470 non-null   float64\n",
            " 21  Over18                    1470 non-null   object \n",
            " 22  OverTime                  1470 non-null   object \n",
            " 23  PercentSalaryHike         1470 non-null   float64\n",
            " 24  PerformanceRating         1470 non-null   float64\n",
            " 25  RelationshipSatisfaction  1470 non-null   float64\n",
            " 26  StandardHours             1470 non-null   float64\n",
            " 27  StockOptionLevel          1470 non-null   float64\n",
            " 28  TotalWorkingYears         1470 non-null   float64\n",
            " 29  TrainingTimesLastYear     1470 non-null   float64\n",
            " 30  WorkLifeBalance           1470 non-null   float64\n",
            " 31  YearsAtCompany            1470 non-null   object \n",
            " 32  YearsInCurrentRole        1470 non-null   float64\n",
            " 33  YearsSinceLastPromotion   1470 non-null   float64\n",
            " 34  YearsWithCurrManager      1470 non-null   float64\n",
            "dtypes: float64(21), int64(3), object(11)\n",
            "memory usage: 413.4+ KB\n"
          ]
        }
      ]
    },
    {
      "cell_type": "markdown",
      "source": [
        "De los anteriores analisis, hay algo que me llama la atención y es que tanto usando el metodo Unique que me dice cuantos valores únicos hay en cada Columna me indica que para el caso de la **Columna Gender** solo hay un tipo de genero. \n",
        "\n",
        "Lo anterior no se me hace normal dado que sea una empresa con tantos empleados no creeria que fuese de solo de un genero. Minimamente deberiamos tener dos.\n",
        "\n",
        "Por lo que posteriormente hice uso del método info, el cual me ayuda a revisar el número de filas, columnas, tipo de datos y valores faltantes. \n",
        "\n",
        "Con esto me encuentro de que todas las columnas representan un comportamiento homogeneo de 1470 datos por columna a excepción de la columna **Gender** que tan solo tiene 588 datos. Osea tenemos tan solo un 40% de lo que deberia ser el total de datos para dicha columna.\n",
        "\n",
        "Explorare más a fondo dicha columna con un conteo de valores."
      ],
      "metadata": {
        "id": "eINoKBO7B_PP"
      }
    },
    {
      "cell_type": "code",
      "source": [
        "# Hago uso del método value_counts para saber a que esta asociado esos 588 datos.\n",
        "df['Gender'].value_counts()"
      ],
      "metadata": {
        "colab": {
          "base_uri": "https://localhost:8080/"
        },
        "id": "-JepQaFEFFem",
        "outputId": "791dbd41-6095-4c66-b9c7-4e59f93eaaa1"
      },
      "execution_count": 8,
      "outputs": [
        {
          "output_type": "execute_result",
          "data": {
            "text/plain": [
              "Female    588\n",
              "Name: Gender, dtype: int64"
            ]
          },
          "metadata": {},
          "execution_count": 8
        }
      ]
    },
    {
      "cell_type": "markdown",
      "source": [
        "Me encuentro que los 588 datos estan asociados a un valor unico llamado Female. "
      ],
      "metadata": {
        "id": "EqWhDcfiGYBo"
      }
    },
    {
      "cell_type": "code",
      "source": [
        "# Hago una exploración con la función .isna que me ayuda a encontrar que valor existe y no existe por cada fila\n",
        "df['Gender'].isna().head(10)"
      ],
      "metadata": {
        "colab": {
          "base_uri": "https://localhost:8080/"
        },
        "id": "9p5kLnQwGJDm",
        "outputId": "8449744f-7fde-47f7-aa80-ac85770ca376"
      },
      "execution_count": 9,
      "outputs": [
        {
          "output_type": "execute_result",
          "data": {
            "text/plain": [
              "0    False\n",
              "1     True\n",
              "2     True\n",
              "3    False\n",
              "4     True\n",
              "5     True\n",
              "6    False\n",
              "7     True\n",
              "8     True\n",
              "9     True\n",
              "Name: Gender, dtype: bool"
            ]
          },
          "metadata": {},
          "execution_count": 9
        }
      ]
    },
    {
      "cell_type": "markdown",
      "source": [
        "Observo que hay varias filas que contienen información de empleados pero sin relación de genero. Asi que creo un filtro para ver que otra información poseen esos empleados que no estan relacionados a un genero para identificar algún posible patrón."
      ],
      "metadata": {
        "id": "KCwS_T8BHiFz"
      }
    },
    {
      "cell_type": "code",
      "source": [
        "# Vuelvo a hacer uso de la función .isna junto a la busqueda segmentada mediante la función loc\n",
        "# Que permite obtener un especto de los valores por empleado relacionado a su respectiva fila y columna\n",
        "gender_missing = df['Gender'].isna()\n",
        "df.loc[gender_missing,:]"
      ],
      "metadata": {
        "colab": {
          "base_uri": "https://localhost:8080/",
          "height": 644
        },
        "id": "4_coJCkqHE_C",
        "outputId": "3eeeb072-33f2-4cc5-cd43-a95b8f43b58f"
      },
      "execution_count": 10,
      "outputs": [
        {
          "output_type": "execute_result",
          "data": {
            "text/plain": [
              "       Age Attrition     BusinessTravel              Department  \\\n",
              "1     49.0        No  Travel_Frequently  Research & Development   \n",
              "2     37.0       Yes      Travel_Rarely  Research & Development   \n",
              "4     27.0        No      Travel_Rarely  Research & Development   \n",
              "5     32.0        No  Travel_Frequently  Research & Development   \n",
              "7     30.0        No      Travel_Rarely  Research & Development   \n",
              "...    ...       ...                ...                     ...   \n",
              "1470  36.0        No  Travel_Frequently  Research & Development   \n",
              "1471  39.0        No      Travel_Rarely  Research & Development   \n",
              "1472  27.0        No      Travel_Rarely  Research & Development   \n",
              "1473  49.0        No  Travel_Frequently                   Sales   \n",
              "1474  34.0        No      Travel_Rarely  Research & Development   \n",
              "\n",
              "      DistanceFromHome  Education EducationField  EmployeeCount  \\\n",
              "1                  8.0        1.0  Life Sciences            1.0   \n",
              "2                  2.0        2.0          Other            1.0   \n",
              "4                  2.0        1.0        Medical            1.0   \n",
              "5                  2.0        2.0  Life Sciences            1.0   \n",
              "7                 24.0        1.0  Life Sciences            1.0   \n",
              "...                ...        ...            ...            ...   \n",
              "1470              23.0        2.0        Medical            1.0   \n",
              "1471               6.0        1.0        Medical            1.0   \n",
              "1472               4.0        3.0  Life Sciences            1.0   \n",
              "1473               2.0        3.0        Medical            1.0   \n",
              "1474               8.0        3.0        Medical            1.0   \n",
              "\n",
              "      EmployeeNumber  EnvironmentSatisfaction  ... RelationshipSatisfaction  \\\n",
              "1                2.0                      3.0  ...                      4.0   \n",
              "2                4.0                      4.0  ...                      2.0   \n",
              "4                7.0                      1.0  ...                      4.0   \n",
              "5                8.0                      4.0  ...                      3.0   \n",
              "7               11.0                      4.0  ...                      2.0   \n",
              "...              ...                      ...  ...                      ...   \n",
              "1470          2061.0                      3.0  ...                      3.0   \n",
              "1471          2062.0                      4.0  ...                      1.0   \n",
              "1472          2064.0                      2.0  ...                      2.0   \n",
              "1473          2065.0                      4.0  ...                      4.0   \n",
              "1474          2068.0                      2.0  ...                      1.0   \n",
              "\n",
              "     StandardHours  StockOptionLevel  TotalWorkingYears TrainingTimesLastYear  \\\n",
              "1             80.0               1.0               10.0                   3.0   \n",
              "2             80.0               0.0                7.0                   3.0   \n",
              "4             80.0               1.0                6.0                   3.0   \n",
              "5             80.0               0.0                8.0                   2.0   \n",
              "7             80.0               1.0                1.0                   2.0   \n",
              "...            ...               ...                ...                   ...   \n",
              "1470          80.0               1.0               17.0                   3.0   \n",
              "1471          80.0               1.0                9.0                   5.0   \n",
              "1472          80.0               1.0                6.0                   0.0   \n",
              "1473          80.0               0.0               17.0                   3.0   \n",
              "1474          80.0               0.0                6.0                   3.0   \n",
              "\n",
              "      WorkLifeBalance YearsAtCompany  YearsInCurrentRole  \\\n",
              "1                 3.0           10.0                 7.0   \n",
              "2                 3.0            0.0                 0.0   \n",
              "4                 3.0            2.0                 2.0   \n",
              "5                 2.0            7.0                 7.0   \n",
              "7                 3.0            1.0                 0.0   \n",
              "...               ...            ...                 ...   \n",
              "1470              3.0            5.0                 2.0   \n",
              "1471              3.0            7.0                 7.0   \n",
              "1472              3.0            6.0                 2.0   \n",
              "1473              2.0            9.0                 6.0   \n",
              "1474              4.0            4.0                 3.0   \n",
              "\n",
              "      YearsSinceLastPromotion  YearsWithCurrManager  \n",
              "1                         1.0                   7.0  \n",
              "2                         0.0                   0.0  \n",
              "4                         2.0                   2.0  \n",
              "5                         3.0                   6.0  \n",
              "7                         0.0                   0.0  \n",
              "...                       ...                   ...  \n",
              "1470                      0.0                   3.0  \n",
              "1471                      1.0                   7.0  \n",
              "1472                      0.0                   3.0  \n",
              "1473                      0.0                   8.0  \n",
              "1474                      1.0                   2.0  \n",
              "\n",
              "[882 rows x 35 columns]"
            ],
            "text/html": [
              "\n",
              "  <div id=\"df-fefa1f38-3e19-4649-9407-1c3b030f8600\">\n",
              "    <div class=\"colab-df-container\">\n",
              "      <div>\n",
              "<style scoped>\n",
              "    .dataframe tbody tr th:only-of-type {\n",
              "        vertical-align: middle;\n",
              "    }\n",
              "\n",
              "    .dataframe tbody tr th {\n",
              "        vertical-align: top;\n",
              "    }\n",
              "\n",
              "    .dataframe thead th {\n",
              "        text-align: right;\n",
              "    }\n",
              "</style>\n",
              "<table border=\"1\" class=\"dataframe\">\n",
              "  <thead>\n",
              "    <tr style=\"text-align: right;\">\n",
              "      <th></th>\n",
              "      <th>Age</th>\n",
              "      <th>Attrition</th>\n",
              "      <th>BusinessTravel</th>\n",
              "      <th>Department</th>\n",
              "      <th>DistanceFromHome</th>\n",
              "      <th>Education</th>\n",
              "      <th>EducationField</th>\n",
              "      <th>EmployeeCount</th>\n",
              "      <th>EmployeeNumber</th>\n",
              "      <th>EnvironmentSatisfaction</th>\n",
              "      <th>...</th>\n",
              "      <th>RelationshipSatisfaction</th>\n",
              "      <th>StandardHours</th>\n",
              "      <th>StockOptionLevel</th>\n",
              "      <th>TotalWorkingYears</th>\n",
              "      <th>TrainingTimesLastYear</th>\n",
              "      <th>WorkLifeBalance</th>\n",
              "      <th>YearsAtCompany</th>\n",
              "      <th>YearsInCurrentRole</th>\n",
              "      <th>YearsSinceLastPromotion</th>\n",
              "      <th>YearsWithCurrManager</th>\n",
              "    </tr>\n",
              "  </thead>\n",
              "  <tbody>\n",
              "    <tr>\n",
              "      <th>1</th>\n",
              "      <td>49.0</td>\n",
              "      <td>No</td>\n",
              "      <td>Travel_Frequently</td>\n",
              "      <td>Research &amp; Development</td>\n",
              "      <td>8.0</td>\n",
              "      <td>1.0</td>\n",
              "      <td>Life Sciences</td>\n",
              "      <td>1.0</td>\n",
              "      <td>2.0</td>\n",
              "      <td>3.0</td>\n",
              "      <td>...</td>\n",
              "      <td>4.0</td>\n",
              "      <td>80.0</td>\n",
              "      <td>1.0</td>\n",
              "      <td>10.0</td>\n",
              "      <td>3.0</td>\n",
              "      <td>3.0</td>\n",
              "      <td>10.0</td>\n",
              "      <td>7.0</td>\n",
              "      <td>1.0</td>\n",
              "      <td>7.0</td>\n",
              "    </tr>\n",
              "    <tr>\n",
              "      <th>2</th>\n",
              "      <td>37.0</td>\n",
              "      <td>Yes</td>\n",
              "      <td>Travel_Rarely</td>\n",
              "      <td>Research &amp; Development</td>\n",
              "      <td>2.0</td>\n",
              "      <td>2.0</td>\n",
              "      <td>Other</td>\n",
              "      <td>1.0</td>\n",
              "      <td>4.0</td>\n",
              "      <td>4.0</td>\n",
              "      <td>...</td>\n",
              "      <td>2.0</td>\n",
              "      <td>80.0</td>\n",
              "      <td>0.0</td>\n",
              "      <td>7.0</td>\n",
              "      <td>3.0</td>\n",
              "      <td>3.0</td>\n",
              "      <td>0.0</td>\n",
              "      <td>0.0</td>\n",
              "      <td>0.0</td>\n",
              "      <td>0.0</td>\n",
              "    </tr>\n",
              "    <tr>\n",
              "      <th>4</th>\n",
              "      <td>27.0</td>\n",
              "      <td>No</td>\n",
              "      <td>Travel_Rarely</td>\n",
              "      <td>Research &amp; Development</td>\n",
              "      <td>2.0</td>\n",
              "      <td>1.0</td>\n",
              "      <td>Medical</td>\n",
              "      <td>1.0</td>\n",
              "      <td>7.0</td>\n",
              "      <td>1.0</td>\n",
              "      <td>...</td>\n",
              "      <td>4.0</td>\n",
              "      <td>80.0</td>\n",
              "      <td>1.0</td>\n",
              "      <td>6.0</td>\n",
              "      <td>3.0</td>\n",
              "      <td>3.0</td>\n",
              "      <td>2.0</td>\n",
              "      <td>2.0</td>\n",
              "      <td>2.0</td>\n",
              "      <td>2.0</td>\n",
              "    </tr>\n",
              "    <tr>\n",
              "      <th>5</th>\n",
              "      <td>32.0</td>\n",
              "      <td>No</td>\n",
              "      <td>Travel_Frequently</td>\n",
              "      <td>Research &amp; Development</td>\n",
              "      <td>2.0</td>\n",
              "      <td>2.0</td>\n",
              "      <td>Life Sciences</td>\n",
              "      <td>1.0</td>\n",
              "      <td>8.0</td>\n",
              "      <td>4.0</td>\n",
              "      <td>...</td>\n",
              "      <td>3.0</td>\n",
              "      <td>80.0</td>\n",
              "      <td>0.0</td>\n",
              "      <td>8.0</td>\n",
              "      <td>2.0</td>\n",
              "      <td>2.0</td>\n",
              "      <td>7.0</td>\n",
              "      <td>7.0</td>\n",
              "      <td>3.0</td>\n",
              "      <td>6.0</td>\n",
              "    </tr>\n",
              "    <tr>\n",
              "      <th>7</th>\n",
              "      <td>30.0</td>\n",
              "      <td>No</td>\n",
              "      <td>Travel_Rarely</td>\n",
              "      <td>Research &amp; Development</td>\n",
              "      <td>24.0</td>\n",
              "      <td>1.0</td>\n",
              "      <td>Life Sciences</td>\n",
              "      <td>1.0</td>\n",
              "      <td>11.0</td>\n",
              "      <td>4.0</td>\n",
              "      <td>...</td>\n",
              "      <td>2.0</td>\n",
              "      <td>80.0</td>\n",
              "      <td>1.0</td>\n",
              "      <td>1.0</td>\n",
              "      <td>2.0</td>\n",
              "      <td>3.0</td>\n",
              "      <td>1.0</td>\n",
              "      <td>0.0</td>\n",
              "      <td>0.0</td>\n",
              "      <td>0.0</td>\n",
              "    </tr>\n",
              "    <tr>\n",
              "      <th>...</th>\n",
              "      <td>...</td>\n",
              "      <td>...</td>\n",
              "      <td>...</td>\n",
              "      <td>...</td>\n",
              "      <td>...</td>\n",
              "      <td>...</td>\n",
              "      <td>...</td>\n",
              "      <td>...</td>\n",
              "      <td>...</td>\n",
              "      <td>...</td>\n",
              "      <td>...</td>\n",
              "      <td>...</td>\n",
              "      <td>...</td>\n",
              "      <td>...</td>\n",
              "      <td>...</td>\n",
              "      <td>...</td>\n",
              "      <td>...</td>\n",
              "      <td>...</td>\n",
              "      <td>...</td>\n",
              "      <td>...</td>\n",
              "      <td>...</td>\n",
              "    </tr>\n",
              "    <tr>\n",
              "      <th>1470</th>\n",
              "      <td>36.0</td>\n",
              "      <td>No</td>\n",
              "      <td>Travel_Frequently</td>\n",
              "      <td>Research &amp; Development</td>\n",
              "      <td>23.0</td>\n",
              "      <td>2.0</td>\n",
              "      <td>Medical</td>\n",
              "      <td>1.0</td>\n",
              "      <td>2061.0</td>\n",
              "      <td>3.0</td>\n",
              "      <td>...</td>\n",
              "      <td>3.0</td>\n",
              "      <td>80.0</td>\n",
              "      <td>1.0</td>\n",
              "      <td>17.0</td>\n",
              "      <td>3.0</td>\n",
              "      <td>3.0</td>\n",
              "      <td>5.0</td>\n",
              "      <td>2.0</td>\n",
              "      <td>0.0</td>\n",
              "      <td>3.0</td>\n",
              "    </tr>\n",
              "    <tr>\n",
              "      <th>1471</th>\n",
              "      <td>39.0</td>\n",
              "      <td>No</td>\n",
              "      <td>Travel_Rarely</td>\n",
              "      <td>Research &amp; Development</td>\n",
              "      <td>6.0</td>\n",
              "      <td>1.0</td>\n",
              "      <td>Medical</td>\n",
              "      <td>1.0</td>\n",
              "      <td>2062.0</td>\n",
              "      <td>4.0</td>\n",
              "      <td>...</td>\n",
              "      <td>1.0</td>\n",
              "      <td>80.0</td>\n",
              "      <td>1.0</td>\n",
              "      <td>9.0</td>\n",
              "      <td>5.0</td>\n",
              "      <td>3.0</td>\n",
              "      <td>7.0</td>\n",
              "      <td>7.0</td>\n",
              "      <td>1.0</td>\n",
              "      <td>7.0</td>\n",
              "    </tr>\n",
              "    <tr>\n",
              "      <th>1472</th>\n",
              "      <td>27.0</td>\n",
              "      <td>No</td>\n",
              "      <td>Travel_Rarely</td>\n",
              "      <td>Research &amp; Development</td>\n",
              "      <td>4.0</td>\n",
              "      <td>3.0</td>\n",
              "      <td>Life Sciences</td>\n",
              "      <td>1.0</td>\n",
              "      <td>2064.0</td>\n",
              "      <td>2.0</td>\n",
              "      <td>...</td>\n",
              "      <td>2.0</td>\n",
              "      <td>80.0</td>\n",
              "      <td>1.0</td>\n",
              "      <td>6.0</td>\n",
              "      <td>0.0</td>\n",
              "      <td>3.0</td>\n",
              "      <td>6.0</td>\n",
              "      <td>2.0</td>\n",
              "      <td>0.0</td>\n",
              "      <td>3.0</td>\n",
              "    </tr>\n",
              "    <tr>\n",
              "      <th>1473</th>\n",
              "      <td>49.0</td>\n",
              "      <td>No</td>\n",
              "      <td>Travel_Frequently</td>\n",
              "      <td>Sales</td>\n",
              "      <td>2.0</td>\n",
              "      <td>3.0</td>\n",
              "      <td>Medical</td>\n",
              "      <td>1.0</td>\n",
              "      <td>2065.0</td>\n",
              "      <td>4.0</td>\n",
              "      <td>...</td>\n",
              "      <td>4.0</td>\n",
              "      <td>80.0</td>\n",
              "      <td>0.0</td>\n",
              "      <td>17.0</td>\n",
              "      <td>3.0</td>\n",
              "      <td>2.0</td>\n",
              "      <td>9.0</td>\n",
              "      <td>6.0</td>\n",
              "      <td>0.0</td>\n",
              "      <td>8.0</td>\n",
              "    </tr>\n",
              "    <tr>\n",
              "      <th>1474</th>\n",
              "      <td>34.0</td>\n",
              "      <td>No</td>\n",
              "      <td>Travel_Rarely</td>\n",
              "      <td>Research &amp; Development</td>\n",
              "      <td>8.0</td>\n",
              "      <td>3.0</td>\n",
              "      <td>Medical</td>\n",
              "      <td>1.0</td>\n",
              "      <td>2068.0</td>\n",
              "      <td>2.0</td>\n",
              "      <td>...</td>\n",
              "      <td>1.0</td>\n",
              "      <td>80.0</td>\n",
              "      <td>0.0</td>\n",
              "      <td>6.0</td>\n",
              "      <td>3.0</td>\n",
              "      <td>4.0</td>\n",
              "      <td>4.0</td>\n",
              "      <td>3.0</td>\n",
              "      <td>1.0</td>\n",
              "      <td>2.0</td>\n",
              "    </tr>\n",
              "  </tbody>\n",
              "</table>\n",
              "<p>882 rows × 35 columns</p>\n",
              "</div>\n",
              "      <button class=\"colab-df-convert\" onclick=\"convertToInteractive('df-fefa1f38-3e19-4649-9407-1c3b030f8600')\"\n",
              "              title=\"Convert this dataframe to an interactive table.\"\n",
              "              style=\"display:none;\">\n",
              "        \n",
              "  <svg xmlns=\"http://www.w3.org/2000/svg\" height=\"24px\"viewBox=\"0 0 24 24\"\n",
              "       width=\"24px\">\n",
              "    <path d=\"M0 0h24v24H0V0z\" fill=\"none\"/>\n",
              "    <path d=\"M18.56 5.44l.94 2.06.94-2.06 2.06-.94-2.06-.94-.94-2.06-.94 2.06-2.06.94zm-11 1L8.5 8.5l.94-2.06 2.06-.94-2.06-.94L8.5 2.5l-.94 2.06-2.06.94zm10 10l.94 2.06.94-2.06 2.06-.94-2.06-.94-.94-2.06-.94 2.06-2.06.94z\"/><path d=\"M17.41 7.96l-1.37-1.37c-.4-.4-.92-.59-1.43-.59-.52 0-1.04.2-1.43.59L10.3 9.45l-7.72 7.72c-.78.78-.78 2.05 0 2.83L4 21.41c.39.39.9.59 1.41.59.51 0 1.02-.2 1.41-.59l7.78-7.78 2.81-2.81c.8-.78.8-2.07 0-2.86zM5.41 20L4 18.59l7.72-7.72 1.47 1.35L5.41 20z\"/>\n",
              "  </svg>\n",
              "      </button>\n",
              "      \n",
              "  <style>\n",
              "    .colab-df-container {\n",
              "      display:flex;\n",
              "      flex-wrap:wrap;\n",
              "      gap: 12px;\n",
              "    }\n",
              "\n",
              "    .colab-df-convert {\n",
              "      background-color: #E8F0FE;\n",
              "      border: none;\n",
              "      border-radius: 50%;\n",
              "      cursor: pointer;\n",
              "      display: none;\n",
              "      fill: #1967D2;\n",
              "      height: 32px;\n",
              "      padding: 0 0 0 0;\n",
              "      width: 32px;\n",
              "    }\n",
              "\n",
              "    .colab-df-convert:hover {\n",
              "      background-color: #E2EBFA;\n",
              "      box-shadow: 0px 1px 2px rgba(60, 64, 67, 0.3), 0px 1px 3px 1px rgba(60, 64, 67, 0.15);\n",
              "      fill: #174EA6;\n",
              "    }\n",
              "\n",
              "    [theme=dark] .colab-df-convert {\n",
              "      background-color: #3B4455;\n",
              "      fill: #D2E3FC;\n",
              "    }\n",
              "\n",
              "    [theme=dark] .colab-df-convert:hover {\n",
              "      background-color: #434B5C;\n",
              "      box-shadow: 0px 1px 3px 1px rgba(0, 0, 0, 0.15);\n",
              "      filter: drop-shadow(0px 1px 2px rgba(0, 0, 0, 0.3));\n",
              "      fill: #FFFFFF;\n",
              "    }\n",
              "  </style>\n",
              "\n",
              "      <script>\n",
              "        const buttonEl =\n",
              "          document.querySelector('#df-fefa1f38-3e19-4649-9407-1c3b030f8600 button.colab-df-convert');\n",
              "        buttonEl.style.display =\n",
              "          google.colab.kernel.accessAllowed ? 'block' : 'none';\n",
              "\n",
              "        async function convertToInteractive(key) {\n",
              "          const element = document.querySelector('#df-fefa1f38-3e19-4649-9407-1c3b030f8600');\n",
              "          const dataTable =\n",
              "            await google.colab.kernel.invokeFunction('convertToInteractive',\n",
              "                                                     [key], {});\n",
              "          if (!dataTable) return;\n",
              "\n",
              "          const docLinkHtml = 'Like what you see? Visit the ' +\n",
              "            '<a target=\"_blank\" href=https://colab.research.google.com/notebooks/data_table.ipynb>data table notebook</a>'\n",
              "            + ' to learn more about interactive tables.';\n",
              "          element.innerHTML = '';\n",
              "          dataTable['output_type'] = 'display_data';\n",
              "          await google.colab.output.renderOutput(dataTable, element);\n",
              "          const docLink = document.createElement('div');\n",
              "          docLink.innerHTML = docLinkHtml;\n",
              "          element.appendChild(docLink);\n",
              "        }\n",
              "      </script>\n",
              "    </div>\n",
              "  </div>\n",
              "  "
            ]
          },
          "metadata": {},
          "execution_count": 10
        }
      ]
    },
    {
      "cell_type": "code",
      "source": [
        "# Identificando si hay algun patron que muestre dónde se encuentran los datos faltantes\n",
        "df.loc[0:20, 'Gender']"
      ],
      "metadata": {
        "colab": {
          "base_uri": "https://localhost:8080/"
        },
        "id": "DDiWdmmFQkR-",
        "outputId": "bbf19972-41f1-486a-bb26-7374f74d3b80"
      },
      "execution_count": 11,
      "outputs": [
        {
          "output_type": "execute_result",
          "data": {
            "text/plain": [
              "0     Female\n",
              "1        NaN\n",
              "2        NaN\n",
              "3     Female\n",
              "4        NaN\n",
              "5        NaN\n",
              "6     Female\n",
              "7        NaN\n",
              "8        NaN\n",
              "9        NaN\n",
              "10       NaN\n",
              "11    Female\n",
              "12       NaN\n",
              "13       NaN\n",
              "15       NaN\n",
              "16    Female\n",
              "17       NaN\n",
              "18       NaN\n",
              "19    Female\n",
              "20       NaN\n",
              "Name: Gender, dtype: object"
            ]
          },
          "metadata": {},
          "execution_count": 11
        }
      ]
    },
    {
      "cell_type": "code",
      "source": [
        "# Hacemos un conteo del número de valores perdidos para la columna de Gender.\n",
        "df['Gender'].isna().sum()"
      ],
      "metadata": {
        "colab": {
          "base_uri": "https://localhost:8080/"
        },
        "id": "6itIkt8GI5NN",
        "outputId": "0b39629b-cf88-4748-97fc-a69f1a49952c"
      },
      "execution_count": 12,
      "outputs": [
        {
          "output_type": "execute_result",
          "data": {
            "text/plain": [
              "882"
            ]
          },
          "metadata": {},
          "execution_count": 12
        }
      ]
    },
    {
      "cell_type": "markdown",
      "source": [
        "# **Lo anterior me lleva a analizar lo siguiente para una toma de decisiones:**\n",
        "\n",
        "\n",
        "*   Tengo 882 filas con datos faltantes que representarian un **60%** del total de datos que deberiamos, recordando que por columana tenemos un comportamiento homogeneo de 1470 valores.\n",
        "\n",
        "*   Si decido omitir ese número de 882 empleados sin genero en mi dataset, solo estaria sesgado a manejar un analisis de empleados con genero Femenino y no tendria una valoración global del por que de la deserción tanto para mujeres como empleados de posiblemente genero Masculino en la empresa.\n",
        "\n",
        "* Tambien si decido eliminar las 882 filas estaria trabajando con menos de la mitad de los datos lo que me llevaria a unas conclusiones incompletas de cara al futuro.\n",
        "\n",
        "* Si decido hacer un manejo de estos datos faltantes con un relleno, de que dichos datos faltantes esten asociados a un genero Tipo Masculino. Tendria completo mi data en cuanto a cantidad de valores correctos por columnas pero en primera medida no podria definir que de esas 822 filas sin genero realmente todos pertenezcan a un genero masculino."
      ],
      "metadata": {
        "id": "jf0C9wibIVm1"
      }
    },
    {
      "cell_type": "markdown",
      "source": [
        "▶▶▶  **Conclusión:** :\n",
        "\n",
        "*Analizando el dataset, basandome en la cantidad de datos faltantes y el tipo de rol del empleado en la compañia. He decidido hacer un relleno de los datos faltantes en cuanto a genero, para que esten asociados a un valor de tipo genero masculino.*\n",
        "\n",
        "*La anterior decisión la he tomado con la finalidad de que prefiero tener un relleno de los campos de dicha columna Gender, para tener un manejo mas completo de la información que realmente me puede ser mucho mas útil y que este asociada a otras columnas que me permitiesen analizar de manera mas concreta otros aspectos asociados a la deserción laboral.*\n",
        "\n"
      ],
      "metadata": {
        "id": "OpDVZakZM8_2"
      }
    },
    {
      "cell_type": "code",
      "source": [
        "# Procedo a hacer el relleno de los valores NaN de la columna Gender haciendo uso del método fillna y el nuevo valor correspondiente\n",
        "df['Gender'].fillna(\"Masculine\", inplace = True)\n",
        "df['Gender'].value_counts()"
      ],
      "metadata": {
        "colab": {
          "base_uri": "https://localhost:8080/"
        },
        "id": "FIZWChekPkcr",
        "outputId": "efdc0717-0a3f-4b32-90f9-216111d83ce9"
      },
      "execution_count": 13,
      "outputs": [
        {
          "output_type": "execute_result",
          "data": {
            "text/plain": [
              "Masculine    882\n",
              "Female       588\n",
              "Name: Gender, dtype: int64"
            ]
          },
          "metadata": {},
          "execution_count": 13
        }
      ]
    },
    {
      "cell_type": "code",
      "source": [
        "# Verifico que el número de valores ya sea completo en todas las columnas\n",
        "df.info()"
      ],
      "metadata": {
        "colab": {
          "base_uri": "https://localhost:8080/"
        },
        "id": "Ji5q1kToTWXO",
        "outputId": "6aad975c-c139-4003-f182-8fe0833fdd65"
      },
      "execution_count": 14,
      "outputs": [
        {
          "output_type": "stream",
          "name": "stdout",
          "text": [
            "<class 'pandas.core.frame.DataFrame'>\n",
            "Int64Index: 1470 entries, 0 to 1474\n",
            "Data columns (total 35 columns):\n",
            " #   Column                    Non-Null Count  Dtype  \n",
            "---  ------                    --------------  -----  \n",
            " 0   Age                       1470 non-null   float64\n",
            " 1   Attrition                 1470 non-null   object \n",
            " 2   BusinessTravel            1470 non-null   object \n",
            " 3   Department                1470 non-null   object \n",
            " 4   DistanceFromHome          1470 non-null   float64\n",
            " 5   Education                 1470 non-null   float64\n",
            " 6   EducationField            1470 non-null   object \n",
            " 7   EmployeeCount             1470 non-null   float64\n",
            " 8   EmployeeNumber            1470 non-null   float64\n",
            " 9   EnvironmentSatisfaction   1470 non-null   float64\n",
            " 10  Gender                    1470 non-null   object \n",
            " 11  HourlyRate                1470 non-null   object \n",
            " 12  JobInvolvement            1470 non-null   float64\n",
            " 13  JobLevel                  1470 non-null   float64\n",
            " 14  JobRole                   1470 non-null   object \n",
            " 15  JobSatisfaction           1470 non-null   float64\n",
            " 16  MaritalStatus             1470 non-null   object \n",
            " 17  DailyRate                 1470 non-null   int64  \n",
            " 18  WeeklyRate                1470 non-null   int64  \n",
            " 19  YearlyRate                1470 non-null   int64  \n",
            " 20  NumCompaniesWorked        1470 non-null   float64\n",
            " 21  Over18                    1470 non-null   object \n",
            " 22  OverTime                  1470 non-null   object \n",
            " 23  PercentSalaryHike         1470 non-null   float64\n",
            " 24  PerformanceRating         1470 non-null   float64\n",
            " 25  RelationshipSatisfaction  1470 non-null   float64\n",
            " 26  StandardHours             1470 non-null   float64\n",
            " 27  StockOptionLevel          1470 non-null   float64\n",
            " 28  TotalWorkingYears         1470 non-null   float64\n",
            " 29  TrainingTimesLastYear     1470 non-null   float64\n",
            " 30  WorkLifeBalance           1470 non-null   float64\n",
            " 31  YearsAtCompany            1470 non-null   object \n",
            " 32  YearsInCurrentRole        1470 non-null   float64\n",
            " 33  YearsSinceLastPromotion   1470 non-null   float64\n",
            " 34  YearsWithCurrManager      1470 non-null   float64\n",
            "dtypes: float64(21), int64(3), object(11)\n",
            "memory usage: 445.7+ KB\n"
          ]
        }
      ]
    },
    {
      "cell_type": "code",
      "source": [
        "# Mostrando la columna Gender para verificar que ya se tengan los valores para ambos generos\n",
        "df.loc[: , ['Gender']]"
      ],
      "metadata": {
        "colab": {
          "base_uri": "https://localhost:8080/",
          "height": 424
        },
        "id": "ReSaIK8FT5KD",
        "outputId": "cfb809b9-cf9c-409d-f89c-3eec5d450b00"
      },
      "execution_count": 15,
      "outputs": [
        {
          "output_type": "execute_result",
          "data": {
            "text/plain": [
              "         Gender\n",
              "0        Female\n",
              "1     Masculine\n",
              "2     Masculine\n",
              "3        Female\n",
              "4     Masculine\n",
              "...         ...\n",
              "1470  Masculine\n",
              "1471  Masculine\n",
              "1472  Masculine\n",
              "1473  Masculine\n",
              "1474  Masculine\n",
              "\n",
              "[1470 rows x 1 columns]"
            ],
            "text/html": [
              "\n",
              "  <div id=\"df-ca101e1a-d413-448d-a7b2-ea37182a1cc3\">\n",
              "    <div class=\"colab-df-container\">\n",
              "      <div>\n",
              "<style scoped>\n",
              "    .dataframe tbody tr th:only-of-type {\n",
              "        vertical-align: middle;\n",
              "    }\n",
              "\n",
              "    .dataframe tbody tr th {\n",
              "        vertical-align: top;\n",
              "    }\n",
              "\n",
              "    .dataframe thead th {\n",
              "        text-align: right;\n",
              "    }\n",
              "</style>\n",
              "<table border=\"1\" class=\"dataframe\">\n",
              "  <thead>\n",
              "    <tr style=\"text-align: right;\">\n",
              "      <th></th>\n",
              "      <th>Gender</th>\n",
              "    </tr>\n",
              "  </thead>\n",
              "  <tbody>\n",
              "    <tr>\n",
              "      <th>0</th>\n",
              "      <td>Female</td>\n",
              "    </tr>\n",
              "    <tr>\n",
              "      <th>1</th>\n",
              "      <td>Masculine</td>\n",
              "    </tr>\n",
              "    <tr>\n",
              "      <th>2</th>\n",
              "      <td>Masculine</td>\n",
              "    </tr>\n",
              "    <tr>\n",
              "      <th>3</th>\n",
              "      <td>Female</td>\n",
              "    </tr>\n",
              "    <tr>\n",
              "      <th>4</th>\n",
              "      <td>Masculine</td>\n",
              "    </tr>\n",
              "    <tr>\n",
              "      <th>...</th>\n",
              "      <td>...</td>\n",
              "    </tr>\n",
              "    <tr>\n",
              "      <th>1470</th>\n",
              "      <td>Masculine</td>\n",
              "    </tr>\n",
              "    <tr>\n",
              "      <th>1471</th>\n",
              "      <td>Masculine</td>\n",
              "    </tr>\n",
              "    <tr>\n",
              "      <th>1472</th>\n",
              "      <td>Masculine</td>\n",
              "    </tr>\n",
              "    <tr>\n",
              "      <th>1473</th>\n",
              "      <td>Masculine</td>\n",
              "    </tr>\n",
              "    <tr>\n",
              "      <th>1474</th>\n",
              "      <td>Masculine</td>\n",
              "    </tr>\n",
              "  </tbody>\n",
              "</table>\n",
              "<p>1470 rows × 1 columns</p>\n",
              "</div>\n",
              "      <button class=\"colab-df-convert\" onclick=\"convertToInteractive('df-ca101e1a-d413-448d-a7b2-ea37182a1cc3')\"\n",
              "              title=\"Convert this dataframe to an interactive table.\"\n",
              "              style=\"display:none;\">\n",
              "        \n",
              "  <svg xmlns=\"http://www.w3.org/2000/svg\" height=\"24px\"viewBox=\"0 0 24 24\"\n",
              "       width=\"24px\">\n",
              "    <path d=\"M0 0h24v24H0V0z\" fill=\"none\"/>\n",
              "    <path d=\"M18.56 5.44l.94 2.06.94-2.06 2.06-.94-2.06-.94-.94-2.06-.94 2.06-2.06.94zm-11 1L8.5 8.5l.94-2.06 2.06-.94-2.06-.94L8.5 2.5l-.94 2.06-2.06.94zm10 10l.94 2.06.94-2.06 2.06-.94-2.06-.94-.94-2.06-.94 2.06-2.06.94z\"/><path d=\"M17.41 7.96l-1.37-1.37c-.4-.4-.92-.59-1.43-.59-.52 0-1.04.2-1.43.59L10.3 9.45l-7.72 7.72c-.78.78-.78 2.05 0 2.83L4 21.41c.39.39.9.59 1.41.59.51 0 1.02-.2 1.41-.59l7.78-7.78 2.81-2.81c.8-.78.8-2.07 0-2.86zM5.41 20L4 18.59l7.72-7.72 1.47 1.35L5.41 20z\"/>\n",
              "  </svg>\n",
              "      </button>\n",
              "      \n",
              "  <style>\n",
              "    .colab-df-container {\n",
              "      display:flex;\n",
              "      flex-wrap:wrap;\n",
              "      gap: 12px;\n",
              "    }\n",
              "\n",
              "    .colab-df-convert {\n",
              "      background-color: #E8F0FE;\n",
              "      border: none;\n",
              "      border-radius: 50%;\n",
              "      cursor: pointer;\n",
              "      display: none;\n",
              "      fill: #1967D2;\n",
              "      height: 32px;\n",
              "      padding: 0 0 0 0;\n",
              "      width: 32px;\n",
              "    }\n",
              "\n",
              "    .colab-df-convert:hover {\n",
              "      background-color: #E2EBFA;\n",
              "      box-shadow: 0px 1px 2px rgba(60, 64, 67, 0.3), 0px 1px 3px 1px rgba(60, 64, 67, 0.15);\n",
              "      fill: #174EA6;\n",
              "    }\n",
              "\n",
              "    [theme=dark] .colab-df-convert {\n",
              "      background-color: #3B4455;\n",
              "      fill: #D2E3FC;\n",
              "    }\n",
              "\n",
              "    [theme=dark] .colab-df-convert:hover {\n",
              "      background-color: #434B5C;\n",
              "      box-shadow: 0px 1px 3px 1px rgba(0, 0, 0, 0.15);\n",
              "      filter: drop-shadow(0px 1px 2px rgba(0, 0, 0, 0.3));\n",
              "      fill: #FFFFFF;\n",
              "    }\n",
              "  </style>\n",
              "\n",
              "      <script>\n",
              "        const buttonEl =\n",
              "          document.querySelector('#df-ca101e1a-d413-448d-a7b2-ea37182a1cc3 button.colab-df-convert');\n",
              "        buttonEl.style.display =\n",
              "          google.colab.kernel.accessAllowed ? 'block' : 'none';\n",
              "\n",
              "        async function convertToInteractive(key) {\n",
              "          const element = document.querySelector('#df-ca101e1a-d413-448d-a7b2-ea37182a1cc3');\n",
              "          const dataTable =\n",
              "            await google.colab.kernel.invokeFunction('convertToInteractive',\n",
              "                                                     [key], {});\n",
              "          if (!dataTable) return;\n",
              "\n",
              "          const docLinkHtml = 'Like what you see? Visit the ' +\n",
              "            '<a target=\"_blank\" href=https://colab.research.google.com/notebooks/data_table.ipynb>data table notebook</a>'\n",
              "            + ' to learn more about interactive tables.';\n",
              "          element.innerHTML = '';\n",
              "          dataTable['output_type'] = 'display_data';\n",
              "          await google.colab.output.renderOutput(dataTable, element);\n",
              "          const docLink = document.createElement('div');\n",
              "          docLink.innerHTML = docLinkHtml;\n",
              "          element.appendChild(docLink);\n",
              "        }\n",
              "      </script>\n",
              "    </div>\n",
              "  </div>\n",
              "  "
            ]
          },
          "metadata": {},
          "execution_count": 15
        }
      ]
    },
    {
      "cell_type": "markdown",
      "source": [
        "\n",
        "\n",
        "---\n",
        "\n"
      ],
      "metadata": {
        "id": "5X01AWePUUF8"
      }
    },
    {
      "cell_type": "markdown",
      "source": [
        "Continuando con nuestra limpieza, revisamos de que nuestro dataset coincida con el diccionario de datos que se nos entrego para el analisis."
      ],
      "metadata": {
        "id": "9QJV3vGRUsPo"
      }
    },
    {
      "cell_type": "code",
      "source": [
        "# Revisando nuevamente el tipo de datos en nuestro dataset usando el método info para identificar los cambios a realizar\n",
        "df.info()"
      ],
      "metadata": {
        "colab": {
          "base_uri": "https://localhost:8080/"
        },
        "id": "epHDtEPBU8go",
        "outputId": "c4440baa-d1ec-4a9c-9690-1c93c429949c"
      },
      "execution_count": 16,
      "outputs": [
        {
          "output_type": "stream",
          "name": "stdout",
          "text": [
            "<class 'pandas.core.frame.DataFrame'>\n",
            "Int64Index: 1470 entries, 0 to 1474\n",
            "Data columns (total 35 columns):\n",
            " #   Column                    Non-Null Count  Dtype  \n",
            "---  ------                    --------------  -----  \n",
            " 0   Age                       1470 non-null   float64\n",
            " 1   Attrition                 1470 non-null   object \n",
            " 2   BusinessTravel            1470 non-null   object \n",
            " 3   Department                1470 non-null   object \n",
            " 4   DistanceFromHome          1470 non-null   float64\n",
            " 5   Education                 1470 non-null   float64\n",
            " 6   EducationField            1470 non-null   object \n",
            " 7   EmployeeCount             1470 non-null   float64\n",
            " 8   EmployeeNumber            1470 non-null   float64\n",
            " 9   EnvironmentSatisfaction   1470 non-null   float64\n",
            " 10  Gender                    1470 non-null   object \n",
            " 11  HourlyRate                1470 non-null   object \n",
            " 12  JobInvolvement            1470 non-null   float64\n",
            " 13  JobLevel                  1470 non-null   float64\n",
            " 14  JobRole                   1470 non-null   object \n",
            " 15  JobSatisfaction           1470 non-null   float64\n",
            " 16  MaritalStatus             1470 non-null   object \n",
            " 17  DailyRate                 1470 non-null   int64  \n",
            " 18  WeeklyRate                1470 non-null   int64  \n",
            " 19  YearlyRate                1470 non-null   int64  \n",
            " 20  NumCompaniesWorked        1470 non-null   float64\n",
            " 21  Over18                    1470 non-null   object \n",
            " 22  OverTime                  1470 non-null   object \n",
            " 23  PercentSalaryHike         1470 non-null   float64\n",
            " 24  PerformanceRating         1470 non-null   float64\n",
            " 25  RelationshipSatisfaction  1470 non-null   float64\n",
            " 26  StandardHours             1470 non-null   float64\n",
            " 27  StockOptionLevel          1470 non-null   float64\n",
            " 28  TotalWorkingYears         1470 non-null   float64\n",
            " 29  TrainingTimesLastYear     1470 non-null   float64\n",
            " 30  WorkLifeBalance           1470 non-null   float64\n",
            " 31  YearsAtCompany            1470 non-null   object \n",
            " 32  YearsInCurrentRole        1470 non-null   float64\n",
            " 33  YearsSinceLastPromotion   1470 non-null   float64\n",
            " 34  YearsWithCurrManager      1470 non-null   float64\n",
            "dtypes: float64(21), int64(3), object(11)\n",
            "memory usage: 445.7+ KB\n"
          ]
        }
      ]
    },
    {
      "cell_type": "markdown",
      "source": [
        "Realizo la conversión para que todas las columnas coincidan con los tipos de datos enumerados en el diccionario de datos."
      ],
      "metadata": {
        "id": "9EY92GOskiwl"
      }
    },
    {
      "cell_type": "code",
      "source": [
        "# Procedemos a hacer la correción de los tipos de datos de tipo float a tipo Integer usando el método astype(type)\n",
        "df['Age'] = df['Age'].astype(int)\n",
        "df['DistanceFromHome'] = df['DistanceFromHome'].astype(int)\n",
        "df['Education'] = df['Education'].astype(int)\n",
        "df['EmployeeCount'] = df['EmployeeCount'].astype(int)\n",
        "df['EmployeeNumber'] = df['EmployeeNumber'].astype(int)\n",
        "df['EnvironmentSatisfaction'] = df['EnvironmentSatisfaction'].astype(int)\n",
        "df['JobInvolvement'] = df['JobInvolvement'].astype(int)\n",
        "df['JobLevel'] = df['JobLevel'].astype(int)\n",
        "df['JobSatisfaction'] = df['JobSatisfaction'].astype(int)\n",
        "df['NumCompaniesWorked'] = df['NumCompaniesWorked'].astype(int)\n",
        "df['PercentSalaryHike'] = df['PercentSalaryHike'].astype(int)\n",
        "df['PerformanceRating'] = df['PerformanceRating'].astype(int)\n",
        "df['RelationshipSatisfaction'] = df['RelationshipSatisfaction'].astype(int)\n",
        "df['StandardHours'] = df['StandardHours'].astype(int)\n",
        "df['StockOptionLevel'] = df['StockOptionLevel'].astype(int)\n",
        "df['TotalWorkingYears'] = df['TotalWorkingYears'].astype(int)\n",
        "df['TrainingTimesLastYear'] = df['TrainingTimesLastYear'].astype(int)\n",
        "df['WorkLifeBalance'] = df['WorkLifeBalance'].astype(int)\n",
        "df['YearsInCurrentRole'] = df['YearsInCurrentRole'].astype(int)\n",
        "df['YearsSinceLastPromotion'] = df['YearsSinceLastPromotion'].astype(int)\n",
        "df['YearsWithCurrManager'] = df['YearsWithCurrManager'].astype(int)\n",
        " "
      ],
      "metadata": {
        "id": "59jUOjCWaSZh"
      },
      "execution_count": 17,
      "outputs": []
    },
    {
      "cell_type": "markdown",
      "source": [
        "Durante el procedimiento encontre un par de columnas que me presentaban problema en la conversión.\n",
        "\n",
        "Por lo que procedi a identificar a raiz del error que incoherencia se tenia en los valores categoricos de las columnas **HourlyRate** y **YearsAtCompany**"
      ],
      "metadata": {
        "id": "SoJYwG8ck0LN"
      }
    },
    {
      "cell_type": "code",
      "source": [
        "# Procedemos a hacer la correción de los tipos de datos de tipo Object a tipo Integer \n",
        "# Usando el método replace para hacer la correción en conversión de un valor categorico en especial y posterior el uso del astype(type)\n",
        "df['HourlyRate'] = df['HourlyRate'].replace('94_', 94)\n",
        "df['HourlyRate'] = df['HourlyRate'].astype(int)"
      ],
      "metadata": {
        "id": "yRhi-syBfUDs"
      },
      "execution_count": 18,
      "outputs": []
    },
    {
      "cell_type": "code",
      "source": [
        "# Procedemos a hacer la correción de los tipos de datos de tipo Object a tipo Integer \n",
        "# Usando el método replace para hacer la correción en conversión de un valor categorico en especial y posterior el uso del astype(type)\n",
        "df['YearsAtCompany'] = df['YearsAtCompany'].replace('5!', 5)\n",
        "df['YearsAtCompany'] = df['YearsAtCompany'].astype(int)"
      ],
      "metadata": {
        "id": "M14FYyXzfuNv"
      },
      "execution_count": 19,
      "outputs": []
    },
    {
      "cell_type": "code",
      "source": [
        "# Finalmente validamos y confirmamos que la comparativa con el diccionario de datos y nuestro dataset es correcta respecto al tipo de datos\n",
        "df.info()"
      ],
      "metadata": {
        "colab": {
          "base_uri": "https://localhost:8080/"
        },
        "id": "RVOaysoPeF7D",
        "outputId": "03946bed-f97d-4971-a20e-4e54dbe58472"
      },
      "execution_count": 20,
      "outputs": [
        {
          "output_type": "stream",
          "name": "stdout",
          "text": [
            "<class 'pandas.core.frame.DataFrame'>\n",
            "Int64Index: 1470 entries, 0 to 1474\n",
            "Data columns (total 35 columns):\n",
            " #   Column                    Non-Null Count  Dtype \n",
            "---  ------                    --------------  ----- \n",
            " 0   Age                       1470 non-null   int64 \n",
            " 1   Attrition                 1470 non-null   object\n",
            " 2   BusinessTravel            1470 non-null   object\n",
            " 3   Department                1470 non-null   object\n",
            " 4   DistanceFromHome          1470 non-null   int64 \n",
            " 5   Education                 1470 non-null   int64 \n",
            " 6   EducationField            1470 non-null   object\n",
            " 7   EmployeeCount             1470 non-null   int64 \n",
            " 8   EmployeeNumber            1470 non-null   int64 \n",
            " 9   EnvironmentSatisfaction   1470 non-null   int64 \n",
            " 10  Gender                    1470 non-null   object\n",
            " 11  HourlyRate                1470 non-null   int64 \n",
            " 12  JobInvolvement            1470 non-null   int64 \n",
            " 13  JobLevel                  1470 non-null   int64 \n",
            " 14  JobRole                   1470 non-null   object\n",
            " 15  JobSatisfaction           1470 non-null   int64 \n",
            " 16  MaritalStatus             1470 non-null   object\n",
            " 17  DailyRate                 1470 non-null   int64 \n",
            " 18  WeeklyRate                1470 non-null   int64 \n",
            " 19  YearlyRate                1470 non-null   int64 \n",
            " 20  NumCompaniesWorked        1470 non-null   int64 \n",
            " 21  Over18                    1470 non-null   object\n",
            " 22  OverTime                  1470 non-null   object\n",
            " 23  PercentSalaryHike         1470 non-null   int64 \n",
            " 24  PerformanceRating         1470 non-null   int64 \n",
            " 25  RelationshipSatisfaction  1470 non-null   int64 \n",
            " 26  StandardHours             1470 non-null   int64 \n",
            " 27  StockOptionLevel          1470 non-null   int64 \n",
            " 28  TotalWorkingYears         1470 non-null   int64 \n",
            " 29  TrainingTimesLastYear     1470 non-null   int64 \n",
            " 30  WorkLifeBalance           1470 non-null   int64 \n",
            " 31  YearsAtCompany            1470 non-null   int64 \n",
            " 32  YearsInCurrentRole        1470 non-null   int64 \n",
            " 33  YearsSinceLastPromotion   1470 non-null   int64 \n",
            " 34  YearsWithCurrManager      1470 non-null   int64 \n",
            "dtypes: int64(26), object(9)\n",
            "memory usage: 445.7+ KB\n"
          ]
        }
      ]
    },
    {
      "cell_type": "code",
      "source": [
        "# Verifico nuevamente si tengo valores perdidos en mi dataset para estar seguro de que todo este en orden\n",
        "df.isna().sum()"
      ],
      "metadata": {
        "colab": {
          "base_uri": "https://localhost:8080/"
        },
        "id": "t2gX4giYl8BD",
        "outputId": "c2dc557d-672d-43c2-db0f-01b812be5f9a"
      },
      "execution_count": 21,
      "outputs": [
        {
          "output_type": "execute_result",
          "data": {
            "text/plain": [
              "Age                         0\n",
              "Attrition                   0\n",
              "BusinessTravel              0\n",
              "Department                  0\n",
              "DistanceFromHome            0\n",
              "Education                   0\n",
              "EducationField              0\n",
              "EmployeeCount               0\n",
              "EmployeeNumber              0\n",
              "EnvironmentSatisfaction     0\n",
              "Gender                      0\n",
              "HourlyRate                  0\n",
              "JobInvolvement              0\n",
              "JobLevel                    0\n",
              "JobRole                     0\n",
              "JobSatisfaction             0\n",
              "MaritalStatus               0\n",
              "DailyRate                   0\n",
              "WeeklyRate                  0\n",
              "YearlyRate                  0\n",
              "NumCompaniesWorked          0\n",
              "Over18                      0\n",
              "OverTime                    0\n",
              "PercentSalaryHike           0\n",
              "PerformanceRating           0\n",
              "RelationshipSatisfaction    0\n",
              "StandardHours               0\n",
              "StockOptionLevel            0\n",
              "TotalWorkingYears           0\n",
              "TrainingTimesLastYear       0\n",
              "WorkLifeBalance             0\n",
              "YearsAtCompany              0\n",
              "YearsInCurrentRole          0\n",
              "YearsSinceLastPromotion     0\n",
              "YearsWithCurrManager        0\n",
              "dtype: int64"
            ]
          },
          "metadata": {},
          "execution_count": 21
        }
      ]
    },
    {
      "cell_type": "code",
      "source": [
        "# Empiezo a utilizar el metodo .value_counts() nuevamente para examinar cada columna y ver si aún se tienen datos inapropiados o inusuales\n",
        "df['Age'].value_counts()"
      ],
      "metadata": {
        "colab": {
          "base_uri": "https://localhost:8080/"
        },
        "id": "lTVyclTamPvT",
        "outputId": "d7e30a56-fe7b-440e-cf1f-67e04932f1e9"
      },
      "execution_count": 22,
      "outputs": [
        {
          "output_type": "execute_result",
          "data": {
            "text/plain": [
              "35     78\n",
              "34     77\n",
              "36     69\n",
              "31     69\n",
              "29     68\n",
              "32     61\n",
              "30     60\n",
              "33     58\n",
              "38     58\n",
              "40     57\n",
              "37     50\n",
              "27     48\n",
              "28     48\n",
              "42     46\n",
              "39     42\n",
              "45     41\n",
              "41     40\n",
              "26     39\n",
              "44     33\n",
              "46     33\n",
              "43     32\n",
              "50     30\n",
              "24     26\n",
              "25     26\n",
              "49     24\n",
              "47     24\n",
              "55     22\n",
              "53     19\n",
              "48     19\n",
              "51     19\n",
              "54     18\n",
              "52     18\n",
              "22     16\n",
              "23     14\n",
              "56     14\n",
              "58     13\n",
              "21     13\n",
              "20     11\n",
              "59     10\n",
              "19      9\n",
              "18      8\n",
              "60      5\n",
              "57      4\n",
              "578     1\n",
              "Name: Age, dtype: int64"
            ]
          },
          "metadata": {},
          "execution_count": 22
        }
      ]
    },
    {
      "cell_type": "markdown",
      "source": [
        "Luego de haber utilizado la anterior acción para cada columna logre encontrar una anomalia en un dato incongruente y era que en la columna **Age** un empleado tenia una edad de 578 años. Lo cual era un error.\n",
        "\n",
        "Por ello procedo a ejecutar el correctivo."
      ],
      "metadata": {
        "id": "of-_GJ8Om_NH"
      }
    },
    {
      "cell_type": "code",
      "source": [
        "# Usando el método replace para hacer la correción en conversión de un valor categorico en especial\n",
        "df['Age'] = df['Age'].replace(578, 57)\n",
        "df['Age'].value_counts()"
      ],
      "metadata": {
        "colab": {
          "base_uri": "https://localhost:8080/"
        },
        "id": "8LVVTwZonwWj",
        "outputId": "16c8cb98-8e56-4b6c-b6ae-8d05494f21d2"
      },
      "execution_count": 23,
      "outputs": [
        {
          "output_type": "execute_result",
          "data": {
            "text/plain": [
              "35    78\n",
              "34    77\n",
              "36    69\n",
              "31    69\n",
              "29    68\n",
              "32    61\n",
              "30    60\n",
              "33    58\n",
              "38    58\n",
              "40    57\n",
              "37    50\n",
              "27    48\n",
              "28    48\n",
              "42    46\n",
              "39    42\n",
              "45    41\n",
              "41    40\n",
              "26    39\n",
              "44    33\n",
              "46    33\n",
              "43    32\n",
              "50    30\n",
              "25    26\n",
              "24    26\n",
              "49    24\n",
              "47    24\n",
              "55    22\n",
              "51    19\n",
              "53    19\n",
              "48    19\n",
              "54    18\n",
              "52    18\n",
              "22    16\n",
              "56    14\n",
              "23    14\n",
              "58    13\n",
              "21    13\n",
              "20    11\n",
              "59    10\n",
              "19     9\n",
              "18     8\n",
              "57     5\n",
              "60     5\n",
              "Name: Age, dtype: int64"
            ]
          },
          "metadata": {},
          "execution_count": 23
        }
      ]
    },
    {
      "cell_type": "markdown",
      "source": [
        "\n",
        "\n",
        "---\n",
        "\n"
      ],
      "metadata": {
        "id": "2Uds4JgQoUHQ"
      }
    },
    {
      "cell_type": "markdown",
      "source": [
        "# **2) The next step is to complete an exploration based on the data using Python. This should include:**\n",
        "\n",
        "* Two different types of univariate exploratory visualizations. Each visualization must include a brief interpretation within the code file.\n",
        "\n",
        "* Two different types of multivariate exploratory visualizations.  Each visualization must include a brief interpretation within the code file."
      ],
      "metadata": {
        "id": "y2bf5c1aoh35"
      }
    },
    {
      "cell_type": "code",
      "source": [
        "# Inicialmente procedemos a importar las libreria matplotlib y Seaborn para hacer uso de los graficos\n",
        "import matplotlib.pyplot as plt\n",
        "import seaborn as sns\n",
        "import pandas as pd\n",
        "import numpy as np\n",
        "from numpy.random import seed, randn"
      ],
      "metadata": {
        "id": "wkeQSsnhqUGK"
      },
      "execution_count": 24,
      "outputs": []
    },
    {
      "cell_type": "code",
      "source": [
        "# Obtenemos una visual general de nuestras columnas para tenerlas a la mano cuando estemos trabajando con los gráficos\n",
        "df.columns"
      ],
      "metadata": {
        "colab": {
          "base_uri": "https://localhost:8080/"
        },
        "id": "PdJUPwG6vRUC",
        "outputId": "5b01208a-e28f-4953-d784-73b0c6bb9924"
      },
      "execution_count": 25,
      "outputs": [
        {
          "output_type": "execute_result",
          "data": {
            "text/plain": [
              "Index(['Age', 'Attrition', 'BusinessTravel', 'Department', 'DistanceFromHome',\n",
              "       'Education', 'EducationField', 'EmployeeCount', 'EmployeeNumber',\n",
              "       'EnvironmentSatisfaction', 'Gender', 'HourlyRate', 'JobInvolvement',\n",
              "       'JobLevel', 'JobRole', 'JobSatisfaction', 'MaritalStatus', 'DailyRate',\n",
              "       'WeeklyRate', 'YearlyRate', 'NumCompaniesWorked', 'Over18', 'OverTime',\n",
              "       'PercentSalaryHike', 'PerformanceRating', 'RelationshipSatisfaction',\n",
              "       'StandardHours', 'StockOptionLevel', 'TotalWorkingYears',\n",
              "       'TrainingTimesLastYear', 'WorkLifeBalance', 'YearsAtCompany',\n",
              "       'YearsInCurrentRole', 'YearsSinceLastPromotion',\n",
              "       'YearsWithCurrManager'],\n",
              "      dtype='object')"
            ]
          },
          "metadata": {},
          "execution_count": 25
        }
      ]
    },
    {
      "cell_type": "markdown",
      "source": [
        "# **Primer análisis:**\n",
        "\n",
        "Este quiero enfocarlo hacia como se encuentra el grado de satisfacción actual de los empleados con su trabajo dentro de la compañia."
      ],
      "metadata": {
        "id": "Z8jBctKezA4I"
      }
    },
    {
      "cell_type": "code",
      "source": [
        "# Hago un ordenamiento de los datos por medio de la Columba Job Satisfaction\n",
        "df_sorted = df.sort_values('JobSatisfaction', ascending=0)"
      ],
      "metadata": {
        "id": "9vMFEFl0vUNI"
      },
      "execution_count": 26,
      "outputs": []
    },
    {
      "cell_type": "code",
      "source": [
        "# Organizo un filtro en el dataframe que me permita organizar de manera ascendente el nivel de satisfacción por empleado\n",
        "# Al igual que visualizar algunos de los demás campos que puedan tener una relación en el sentido de dicha calificación hacia la empresa\n",
        "df_sorted_job_satisfaction = df_sorted.sort_values('JobSatisfaction', ascending=True)\n",
        "df_sorted_job_satisfaction.loc[:, ['JobSatisfaction', 'Age', 'BusinessTravel', 'Department', 'DistanceFromHome', 'JobRole', 'JobLevel', 'JobInvolvement']]"
      ],
      "metadata": {
        "colab": {
          "base_uri": "https://localhost:8080/",
          "height": 424
        },
        "id": "lk1vWohYu6hl",
        "outputId": "d8307ca8-0942-478c-938f-52bdc1277c42"
      },
      "execution_count": 27,
      "outputs": [
        {
          "output_type": "execute_result",
          "data": {
            "text/plain": [
              "      JobSatisfaction  Age     BusinessTravel              Department  \\\n",
              "1087                1   40      Travel_Rarely  Research & Development   \n",
              "593                 1   33      Travel_Rarely                   Sales   \n",
              "636                 1   36      Travel_Rarely         Human Resources   \n",
              "111                 1   51  Travel_Frequently  Research & Development   \n",
              "1357                1   44      Travel_Rarely  Research & Development   \n",
              "...               ...  ...                ...                     ...   \n",
              "1259                4   49      Travel_Rarely                   Sales   \n",
              "1266                4   38      Travel_Rarely  Research & Development   \n",
              "182                 4   31      Travel_Rarely  Research & Development   \n",
              "1274                4   43      Travel_Rarely         Human Resources   \n",
              "0                   4   41      Travel_Rarely                   Sales   \n",
              "\n",
              "      DistanceFromHome                    JobRole  JobLevel  JobInvolvement  \n",
              "1087                 9      Laboratory Technician         1               3  \n",
              "593                 16            Sales Executive         2               3  \n",
              "636                  8            Human Resources         1               2  \n",
              "111                  1  Healthcare Representative         3               2  \n",
              "1357                 1  Healthcare Representative         2               4  \n",
              "...                ...                        ...       ...             ...  \n",
              "1259                11            Sales Executive         2               3  \n",
              "1266                18  Healthcare Representative         2               1  \n",
              "182                 12         Research Scientist         1               3  \n",
              "1274                 2            Human Resources         1               3  \n",
              "0                    1            Sales Executive         2               3  \n",
              "\n",
              "[1470 rows x 8 columns]"
            ],
            "text/html": [
              "\n",
              "  <div id=\"df-2044bd4c-4b9e-4305-9efb-e14cb82368ad\">\n",
              "    <div class=\"colab-df-container\">\n",
              "      <div>\n",
              "<style scoped>\n",
              "    .dataframe tbody tr th:only-of-type {\n",
              "        vertical-align: middle;\n",
              "    }\n",
              "\n",
              "    .dataframe tbody tr th {\n",
              "        vertical-align: top;\n",
              "    }\n",
              "\n",
              "    .dataframe thead th {\n",
              "        text-align: right;\n",
              "    }\n",
              "</style>\n",
              "<table border=\"1\" class=\"dataframe\">\n",
              "  <thead>\n",
              "    <tr style=\"text-align: right;\">\n",
              "      <th></th>\n",
              "      <th>JobSatisfaction</th>\n",
              "      <th>Age</th>\n",
              "      <th>BusinessTravel</th>\n",
              "      <th>Department</th>\n",
              "      <th>DistanceFromHome</th>\n",
              "      <th>JobRole</th>\n",
              "      <th>JobLevel</th>\n",
              "      <th>JobInvolvement</th>\n",
              "    </tr>\n",
              "  </thead>\n",
              "  <tbody>\n",
              "    <tr>\n",
              "      <th>1087</th>\n",
              "      <td>1</td>\n",
              "      <td>40</td>\n",
              "      <td>Travel_Rarely</td>\n",
              "      <td>Research &amp; Development</td>\n",
              "      <td>9</td>\n",
              "      <td>Laboratory Technician</td>\n",
              "      <td>1</td>\n",
              "      <td>3</td>\n",
              "    </tr>\n",
              "    <tr>\n",
              "      <th>593</th>\n",
              "      <td>1</td>\n",
              "      <td>33</td>\n",
              "      <td>Travel_Rarely</td>\n",
              "      <td>Sales</td>\n",
              "      <td>16</td>\n",
              "      <td>Sales Executive</td>\n",
              "      <td>2</td>\n",
              "      <td>3</td>\n",
              "    </tr>\n",
              "    <tr>\n",
              "      <th>636</th>\n",
              "      <td>1</td>\n",
              "      <td>36</td>\n",
              "      <td>Travel_Rarely</td>\n",
              "      <td>Human Resources</td>\n",
              "      <td>8</td>\n",
              "      <td>Human Resources</td>\n",
              "      <td>1</td>\n",
              "      <td>2</td>\n",
              "    </tr>\n",
              "    <tr>\n",
              "      <th>111</th>\n",
              "      <td>1</td>\n",
              "      <td>51</td>\n",
              "      <td>Travel_Frequently</td>\n",
              "      <td>Research &amp; Development</td>\n",
              "      <td>1</td>\n",
              "      <td>Healthcare Representative</td>\n",
              "      <td>3</td>\n",
              "      <td>2</td>\n",
              "    </tr>\n",
              "    <tr>\n",
              "      <th>1357</th>\n",
              "      <td>1</td>\n",
              "      <td>44</td>\n",
              "      <td>Travel_Rarely</td>\n",
              "      <td>Research &amp; Development</td>\n",
              "      <td>1</td>\n",
              "      <td>Healthcare Representative</td>\n",
              "      <td>2</td>\n",
              "      <td>4</td>\n",
              "    </tr>\n",
              "    <tr>\n",
              "      <th>...</th>\n",
              "      <td>...</td>\n",
              "      <td>...</td>\n",
              "      <td>...</td>\n",
              "      <td>...</td>\n",
              "      <td>...</td>\n",
              "      <td>...</td>\n",
              "      <td>...</td>\n",
              "      <td>...</td>\n",
              "    </tr>\n",
              "    <tr>\n",
              "      <th>1259</th>\n",
              "      <td>4</td>\n",
              "      <td>49</td>\n",
              "      <td>Travel_Rarely</td>\n",
              "      <td>Sales</td>\n",
              "      <td>11</td>\n",
              "      <td>Sales Executive</td>\n",
              "      <td>2</td>\n",
              "      <td>3</td>\n",
              "    </tr>\n",
              "    <tr>\n",
              "      <th>1266</th>\n",
              "      <td>4</td>\n",
              "      <td>38</td>\n",
              "      <td>Travel_Rarely</td>\n",
              "      <td>Research &amp; Development</td>\n",
              "      <td>18</td>\n",
              "      <td>Healthcare Representative</td>\n",
              "      <td>2</td>\n",
              "      <td>1</td>\n",
              "    </tr>\n",
              "    <tr>\n",
              "      <th>182</th>\n",
              "      <td>4</td>\n",
              "      <td>31</td>\n",
              "      <td>Travel_Rarely</td>\n",
              "      <td>Research &amp; Development</td>\n",
              "      <td>12</td>\n",
              "      <td>Research Scientist</td>\n",
              "      <td>1</td>\n",
              "      <td>3</td>\n",
              "    </tr>\n",
              "    <tr>\n",
              "      <th>1274</th>\n",
              "      <td>4</td>\n",
              "      <td>43</td>\n",
              "      <td>Travel_Rarely</td>\n",
              "      <td>Human Resources</td>\n",
              "      <td>2</td>\n",
              "      <td>Human Resources</td>\n",
              "      <td>1</td>\n",
              "      <td>3</td>\n",
              "    </tr>\n",
              "    <tr>\n",
              "      <th>0</th>\n",
              "      <td>4</td>\n",
              "      <td>41</td>\n",
              "      <td>Travel_Rarely</td>\n",
              "      <td>Sales</td>\n",
              "      <td>1</td>\n",
              "      <td>Sales Executive</td>\n",
              "      <td>2</td>\n",
              "      <td>3</td>\n",
              "    </tr>\n",
              "  </tbody>\n",
              "</table>\n",
              "<p>1470 rows × 8 columns</p>\n",
              "</div>\n",
              "      <button class=\"colab-df-convert\" onclick=\"convertToInteractive('df-2044bd4c-4b9e-4305-9efb-e14cb82368ad')\"\n",
              "              title=\"Convert this dataframe to an interactive table.\"\n",
              "              style=\"display:none;\">\n",
              "        \n",
              "  <svg xmlns=\"http://www.w3.org/2000/svg\" height=\"24px\"viewBox=\"0 0 24 24\"\n",
              "       width=\"24px\">\n",
              "    <path d=\"M0 0h24v24H0V0z\" fill=\"none\"/>\n",
              "    <path d=\"M18.56 5.44l.94 2.06.94-2.06 2.06-.94-2.06-.94-.94-2.06-.94 2.06-2.06.94zm-11 1L8.5 8.5l.94-2.06 2.06-.94-2.06-.94L8.5 2.5l-.94 2.06-2.06.94zm10 10l.94 2.06.94-2.06 2.06-.94-2.06-.94-.94-2.06-.94 2.06-2.06.94z\"/><path d=\"M17.41 7.96l-1.37-1.37c-.4-.4-.92-.59-1.43-.59-.52 0-1.04.2-1.43.59L10.3 9.45l-7.72 7.72c-.78.78-.78 2.05 0 2.83L4 21.41c.39.39.9.59 1.41.59.51 0 1.02-.2 1.41-.59l7.78-7.78 2.81-2.81c.8-.78.8-2.07 0-2.86zM5.41 20L4 18.59l7.72-7.72 1.47 1.35L5.41 20z\"/>\n",
              "  </svg>\n",
              "      </button>\n",
              "      \n",
              "  <style>\n",
              "    .colab-df-container {\n",
              "      display:flex;\n",
              "      flex-wrap:wrap;\n",
              "      gap: 12px;\n",
              "    }\n",
              "\n",
              "    .colab-df-convert {\n",
              "      background-color: #E8F0FE;\n",
              "      border: none;\n",
              "      border-radius: 50%;\n",
              "      cursor: pointer;\n",
              "      display: none;\n",
              "      fill: #1967D2;\n",
              "      height: 32px;\n",
              "      padding: 0 0 0 0;\n",
              "      width: 32px;\n",
              "    }\n",
              "\n",
              "    .colab-df-convert:hover {\n",
              "      background-color: #E2EBFA;\n",
              "      box-shadow: 0px 1px 2px rgba(60, 64, 67, 0.3), 0px 1px 3px 1px rgba(60, 64, 67, 0.15);\n",
              "      fill: #174EA6;\n",
              "    }\n",
              "\n",
              "    [theme=dark] .colab-df-convert {\n",
              "      background-color: #3B4455;\n",
              "      fill: #D2E3FC;\n",
              "    }\n",
              "\n",
              "    [theme=dark] .colab-df-convert:hover {\n",
              "      background-color: #434B5C;\n",
              "      box-shadow: 0px 1px 3px 1px rgba(0, 0, 0, 0.15);\n",
              "      filter: drop-shadow(0px 1px 2px rgba(0, 0, 0, 0.3));\n",
              "      fill: #FFFFFF;\n",
              "    }\n",
              "  </style>\n",
              "\n",
              "      <script>\n",
              "        const buttonEl =\n",
              "          document.querySelector('#df-2044bd4c-4b9e-4305-9efb-e14cb82368ad button.colab-df-convert');\n",
              "        buttonEl.style.display =\n",
              "          google.colab.kernel.accessAllowed ? 'block' : 'none';\n",
              "\n",
              "        async function convertToInteractive(key) {\n",
              "          const element = document.querySelector('#df-2044bd4c-4b9e-4305-9efb-e14cb82368ad');\n",
              "          const dataTable =\n",
              "            await google.colab.kernel.invokeFunction('convertToInteractive',\n",
              "                                                     [key], {});\n",
              "          if (!dataTable) return;\n",
              "\n",
              "          const docLinkHtml = 'Like what you see? Visit the ' +\n",
              "            '<a target=\"_blank\" href=https://colab.research.google.com/notebooks/data_table.ipynb>data table notebook</a>'\n",
              "            + ' to learn more about interactive tables.';\n",
              "          element.innerHTML = '';\n",
              "          dataTable['output_type'] = 'display_data';\n",
              "          await google.colab.output.renderOutput(dataTable, element);\n",
              "          const docLink = document.createElement('div');\n",
              "          docLink.innerHTML = docLinkHtml;\n",
              "          element.appendChild(docLink);\n",
              "        }\n",
              "      </script>\n",
              "    </div>\n",
              "  </div>\n",
              "  "
            ]
          },
          "metadata": {},
          "execution_count": 27
        }
      ]
    },
    {
      "cell_type": "code",
      "source": [
        "# Hago una sumatoria de los valores por nivel de satisfacción del trabajo entre cada empleado\n",
        "df['JobSatisfaction'].value_counts(sum)"
      ],
      "metadata": {
        "colab": {
          "base_uri": "https://localhost:8080/"
        },
        "id": "Hepz7dHX4o64",
        "outputId": "fbb7b57a-93b8-49e5-ded9-16ef401736ff"
      },
      "execution_count": 28,
      "outputs": [
        {
          "output_type": "execute_result",
          "data": {
            "text/plain": [
              "4    0.312245\n",
              "3    0.300680\n",
              "1    0.196599\n",
              "2    0.190476\n",
              "Name: JobSatisfaction, dtype: float64"
            ]
          },
          "metadata": {},
          "execution_count": 28
        }
      ]
    },
    {
      "cell_type": "code",
      "source": [
        "# Procedo a generar el calculo respectivo para obtener más puntualmente el porcentaje de satisfacción con su rol entre el total global de empleados\n",
        "listJobSatisfaction = df['JobSatisfaction'].values.tolist()\n",
        "percentage_of_job_satisfaction1 = listJobSatisfaction.count(1)/len(listJobSatisfaction) * 100\n",
        "percentage_of_job_satisfaction2 = listJobSatisfaction.count(2)/len(listJobSatisfaction) * 100\n",
        "percentage_of_job_satisfaction3 = listJobSatisfaction.count(3)/len(listJobSatisfaction) * 100\n",
        "percentage_of_job_satisfaction4 = listJobSatisfaction.count(4)/len(listJobSatisfaction) * 100\n",
        "print(\"El porcentaje de empleados con un nivel de satisfacción 1 con su trabajo es de %.1f\" % percentage_of_job_satisfaction1 + \"%\")\n",
        "print(\"El porcentaje de empleados con un nivel de satisfacción 2 con su trabajo es de %.1f\" % percentage_of_job_satisfaction2 + \"%\")\n",
        "print(\"El porcentaje de empleados con un nivel de satisfacción 3 con su trabajo es de %.1f\" % percentage_of_job_satisfaction3 + \"%\")\n",
        "print(\"El porcentaje de empleados con un nivel de satisfacción 4 con su trabajo es de %.1f\" % percentage_of_job_satisfaction4 + \"%\")"
      ],
      "metadata": {
        "colab": {
          "base_uri": "https://localhost:8080/"
        },
        "id": "6XDHLAcYxiCh",
        "outputId": "3b907e5f-5985-48a2-cfe3-5b95a2bbbbfb"
      },
      "execution_count": 29,
      "outputs": [
        {
          "output_type": "stream",
          "name": "stdout",
          "text": [
            "El porcentaje de empleados con un nivel de satisfacción 1 con su trabajo es de 19.7%\n",
            "El porcentaje de empleados con un nivel de satisfacción 2 con su trabajo es de 19.0%\n",
            "El porcentaje de empleados con un nivel de satisfacción 3 con su trabajo es de 30.1%\n",
            "El porcentaje de empleados con un nivel de satisfacción 4 con su trabajo es de 31.2%\n"
          ]
        }
      ]
    },
    {
      "cell_type": "code",
      "source": [
        "# Procedo a generar un grafico de barras mediante la herramienta de SeaBorn para identificar el volumen de empleados en su respectivo nivel de satisfacción en su rol laboral\n",
        "sns.histplot(data = df_sorted_job_satisfaction, x = 'JobSatisfaction', bins = 8, color = \"orange\").set(title='Nivel de Satisfación Laboral por empleados')\n",
        "sns.set(rc = {'figure.figsize':(16,12)})"
      ],
      "metadata": {
        "colab": {
          "base_uri": "https://localhost:8080/",
          "height": 295
        },
        "id": "9tgjWtNvyUHL",
        "outputId": "82d91440-74c8-4d70-9b03-33aec9650d87"
      },
      "execution_count": 30,
      "outputs": [
        {
          "output_type": "display_data",
          "data": {
            "text/plain": [
              "<Figure size 432x288 with 1 Axes>"
            ],
            "image/png": "[encoded data removed]"
          },
          "metadata": {
            "needs_background": "light"
          }
        }
      ]
    },
    {
      "cell_type": "markdown",
      "source": [
        "# **Conclusión 1:** \n",
        "\n",
        "Podemos visualizar de que un poco más de la mitad de los empleados tiene un grado de satisfacción positivo respecto a su cargo dentro de la organización. El cual es de alrededor de un **61.3%** teniendo presente que se tomaria como niveles aceptables el 3 y 4.\n",
        "\n",
        "Aunque preocupa un poco, que un **38.7 %** esten teniendo un percepción no tan favorable particularmente como se puede ver en la grafica entre estos, hay mas empleados inclinados hacia un nivel de satisfacción 1 que de grado medio como los seria de calificación 2.\n",
        "\n",
        "Asi que se debe generar estrategias que permitan reducir esa brecha y aumentar el grado de satisfacción de estos dos ultimos grupos con niveles de satisfacción bajos. Para que a futuro no se siga teniendo un mala percepción y que aumente la deserción laboral. \n"
      ],
      "metadata": {
        "id": "JCYWTxO46wzc"
      }
    },
    {
      "cell_type": "markdown",
      "source": [
        "\n",
        "\n",
        "---\n",
        "\n"
      ],
      "metadata": {
        "id": "55ZkJNRa8fYh"
      }
    },
    {
      "cell_type": "markdown",
      "source": [
        "# **Segundo análisis:**\n",
        "\n",
        "Continuando el escenario de sensaciones frente el trabajo. También se considera que el grado de solidez de las relaciones entre el equipo de trabajo tambien es muy influyente para que uno de los empleados decida quedarse o no en la compañia dependiendo de ese buen trabajo en equipo o percepción de inclusión por parte de sus compañeros.\n",
        "\n",
        "Asi que a continuación analizare como se comporta el nivel de satisfación de las relaciones laboreles dentro de los empleados.\n",
        "\n"
      ],
      "metadata": {
        "id": "ddKctWBy9I5z"
      }
    },
    {
      "cell_type": "code",
      "source": [
        "# Hago una sumatoria de los valores por nivel de satisfacción entre todos los empleados\n",
        "df['RelationshipSatisfaction'].value_counts(sum)"
      ],
      "metadata": {
        "colab": {
          "base_uri": "https://localhost:8080/"
        },
        "id": "gkGebC8KIbka",
        "outputId": "b040951f-c03a-47f2-fd87-0ba7a2f9d568"
      },
      "execution_count": 31,
      "outputs": [
        {
          "output_type": "execute_result",
          "data": {
            "text/plain": [
              "3    0.312245\n",
              "4    0.293878\n",
              "2    0.206122\n",
              "1    0.187755\n",
              "Name: RelationshipSatisfaction, dtype: float64"
            ]
          },
          "metadata": {},
          "execution_count": 31
        }
      ]
    },
    {
      "cell_type": "code",
      "source": [
        "# Procedo a generar el calculo respectivo para obtener más puntualmente el porcentaje de satisfacción frente a las relaciones laborales entre empleados\n",
        "listRelationshipSatisfaction = df['RelationshipSatisfaction'].values.tolist()\n",
        "percentage_of_relationship1 = listRelationshipSatisfaction.count(1)/len(listRelationshipSatisfaction) * 100\n",
        "percentage_of_relationship2 = listRelationshipSatisfaction.count(2)/len(listRelationshipSatisfaction) * 100\n",
        "percentage_of_relationship3 = listRelationshipSatisfaction.count(3)/len(listRelationshipSatisfaction) * 100\n",
        "percentage_of_relationship4 = listRelationshipSatisfaction.count(4)/len(listRelationshipSatisfaction) * 100\n",
        "print(\"El porcentaje de empleados con un nivel de satisfacción 1 con sus relaciones laborales es de %.1f\" % percentage_of_relationship1 + \"%\")\n",
        "print(\"El porcentaje de empleados con un nivel de satisfacción 2 con sus relaciones laborales es de %.1f\" % percentage_of_relationship2 + \"%\")\n",
        "print(\"El porcentaje de empleados con un nivel de satisfacción 3 con sus relaciones laborales es de %.1f\" % percentage_of_relationship3 + \"%\")\n",
        "print(\"El porcentaje de empleados con un nivel de satisfacción 4 con sus relaciones laborales es de %.1f\" % percentage_of_relationship4 + \"%\")"
      ],
      "metadata": {
        "colab": {
          "base_uri": "https://localhost:8080/"
        },
        "id": "ii7jqG_-MIcT",
        "outputId": "cf290530-cf3f-426e-f382-3ed16a6aca48"
      },
      "execution_count": 32,
      "outputs": [
        {
          "output_type": "stream",
          "name": "stdout",
          "text": [
            "El porcentaje de empleados con un nivel de satisfacción 1 con sus relaciones laborales es de 18.8%\n",
            "El porcentaje de empleados con un nivel de satisfacción 2 con sus relaciones laborales es de 20.6%\n",
            "El porcentaje de empleados con un nivel de satisfacción 3 con sus relaciones laborales es de 31.2%\n",
            "El porcentaje de empleados con un nivel de satisfacción 4 con sus relaciones laborales es de 29.4%\n"
          ]
        }
      ]
    },
    {
      "cell_type": "code",
      "source": [
        "# Hacemos uso de un gráfico de caja para visualizar el comportamiento de lo datos de la columna RelationshipSatisfaction\n",
        "plt.boxplot(df.RelationshipSatisfaction)\n",
        "plt.title(\"Nivel de Satisfacción de Relación Laboral de los Empleados\")\n",
        "plt.ylabel(\"Califación\")\n",
        "plt.xlabel(\"Satisfación Relaciones Laborales\")\n",
        "plt.figure(figsize=(6,6))\n",
        "plt.show()"
      ],
      "metadata": {
        "colab": {
          "base_uri": "https://localhost:8080/",
          "height": 753
        },
        "id": "m9prxQ5nDXVe",
        "outputId": "c9d8d3c5-ee05-48b1-f501-e23ee782c85a"
      },
      "execution_count": 33,
      "outputs": [
        {
          "output_type": "display_data",
          "data": {
            "text/plain": [
              "<Figure size 1152x864 with 1 Axes>"
            ],
            "image/png": "[encoded data removed]"
          },
          "metadata": {}
        },
        {
          "output_type": "display_data",
          "data": {
            "text/plain": [
              "<Figure size 432x432 with 0 Axes>"
            ]
          },
          "metadata": {}
        }
      ]
    },
    {
      "cell_type": "markdown",
      "source": [
        "# **Conclusión 2:**\n",
        "\n",
        "El anterior grafico nos permite visualizar que tenemos un promedio de respuestas que estan orientadas a un nivel de satisfación de tipo favorable en las relaciones laborales. En este caso representado por un nivel 3.\n",
        "\n",
        "Por lo que tenemos más del 80% de los empleados con un grado de satisfación en sus relaciones laborales y a gusto con la convivencia con sus compañeros, entre los niveles 2 y 4.\n",
        "\n",
        "Lo anterior nos permitiria focalizar el por que el 18.8% de los empleados sienten una mala relación laboral en su ambiente de trabajo, creando diversas estrategias que permitan mejorar los espacios de trabajo de equipo entre las diferentes areas de la compañia y apuntar a erradicar el mal ambiente laboral que es unas de las principales causas de deserción laboral.\n"
      ],
      "metadata": {
        "id": "3kCDvaziMr-8"
      }
    },
    {
      "cell_type": "markdown",
      "source": [
        "\n",
        "\n",
        "---\n",
        "\n"
      ],
      "metadata": {
        "id": "yG7JCYjkTMW1"
      }
    },
    {
      "cell_type": "markdown",
      "source": [
        "# **Tercer análisis:**\n",
        "\n"
      ],
      "metadata": {
        "id": "gAuRDVdgTdGd"
      }
    },
    {
      "cell_type": "code",
      "source": [
        "# Procedo a generar el calculo respectivo para tener una idea más puntual sobre el porcentaje de empleados pertenecientes a cada Departamento de la empresa\n",
        "listDepartments = df['Department'].values.tolist()\n",
        "percentage_of_departament1 = listDepartments.count('Research & Development')/len(listDepartments) * 100\n",
        "percentage_of_departament2 = listDepartments.count('Sales')/len(listDepartments) * 100\n",
        "percentage_of_departament3 = listDepartments.count('Human Resources')/len(listDepartments) * 100\n",
        "print(\"El porcentaje de empleados que pertenecen al Departamento de Research & Development es de %.1f\" % percentage_of_departament1 + \"%\")\n",
        "print(\"El porcentaje de empleados que pertenecen al Departamento de Sales es de %.1f\" % percentage_of_departament2 + \"%\")\n",
        "print(\"El porcentaje de empleados que pertenecen al Departamento de Human Resources es de %.1f\" % percentage_of_departament3 + \"%\")"
      ],
      "metadata": {
        "colab": {
          "base_uri": "https://localhost:8080/"
        },
        "id": "pTUb0sVHU5Kf",
        "outputId": "d84da1bf-478b-42a6-832b-b3408c883889"
      },
      "execution_count": 34,
      "outputs": [
        {
          "output_type": "stream",
          "name": "stdout",
          "text": [
            "El porcentaje de empleados que pertenecen al Departamento de Research & Development es de 65.4%\n",
            "El porcentaje de empleados que pertenecen al Departamento de Sales es de 30.3%\n",
            "El porcentaje de empleados que pertenecen al Departamento de Human Resources es de 4.3%\n"
          ]
        }
      ]
    },
    {
      "cell_type": "code",
      "source": [
        "# Genero un agrupamiento entre las columnas de Departamiento y Nivel de Satisfacción en el ambiente laboral\n",
        "# Para luego obtener el conteo del numero de empleados por nivel de califación de este item de satisfacción\n",
        "df.groupby(['Department', 'EnvironmentSatisfaction'])[['EmployeeCount']].sum()"
      ],
      "metadata": {
        "colab": {
          "base_uri": "https://localhost:8080/",
          "height": 457
        },
        "id": "5_NjOjMgtMBv",
        "outputId": "ab91f7c5-9178-43da-8185-c41dba437f04"
      },
      "execution_count": 35,
      "outputs": [
        {
          "output_type": "execute_result",
          "data": {
            "text/plain": [
              "                                                EmployeeCount\n",
              "Department             EnvironmentSatisfaction               \n",
              "Human Resources        1                                   11\n",
              "                       2                                   12\n",
              "                       3                                   26\n",
              "                       4                                   14\n",
              "Research & Development 1                                  187\n",
              "                       2                                  177\n",
              "                       3                                  292\n",
              "                       4                                  305\n",
              "Sales                  1                                   86\n",
              "                       2                                   98\n",
              "                       3                                  135\n",
              "                       4                                  127"
            ],
            "text/html": [
              "\n",
              "  <div id=\"df-541633d6-dbd0-46a4-b8b6-7266154aaeb4\">\n",
              "    <div class=\"colab-df-container\">\n",
              "      <div>\n",
              "<style scoped>\n",
              "    .dataframe tbody tr th:only-of-type {\n",
              "        vertical-align: middle;\n",
              "    }\n",
              "\n",
              "    .dataframe tbody tr th {\n",
              "        vertical-align: top;\n",
              "    }\n",
              "\n",
              "    .dataframe thead th {\n",
              "        text-align: right;\n",
              "    }\n",
              "</style>\n",
              "<table border=\"1\" class=\"dataframe\">\n",
              "  <thead>\n",
              "    <tr style=\"text-align: right;\">\n",
              "      <th></th>\n",
              "      <th></th>\n",
              "      <th>EmployeeCount</th>\n",
              "    </tr>\n",
              "    <tr>\n",
              "      <th>Department</th>\n",
              "      <th>EnvironmentSatisfaction</th>\n",
              "      <th></th>\n",
              "    </tr>\n",
              "  </thead>\n",
              "  <tbody>\n",
              "    <tr>\n",
              "      <th rowspan=\"4\" valign=\"top\">Human Resources</th>\n",
              "      <th>1</th>\n",
              "      <td>11</td>\n",
              "    </tr>\n",
              "    <tr>\n",
              "      <th>2</th>\n",
              "      <td>12</td>\n",
              "    </tr>\n",
              "    <tr>\n",
              "      <th>3</th>\n",
              "      <td>26</td>\n",
              "    </tr>\n",
              "    <tr>\n",
              "      <th>4</th>\n",
              "      <td>14</td>\n",
              "    </tr>\n",
              "    <tr>\n",
              "      <th rowspan=\"4\" valign=\"top\">Research &amp; Development</th>\n",
              "      <th>1</th>\n",
              "      <td>187</td>\n",
              "    </tr>\n",
              "    <tr>\n",
              "      <th>2</th>\n",
              "      <td>177</td>\n",
              "    </tr>\n",
              "    <tr>\n",
              "      <th>3</th>\n",
              "      <td>292</td>\n",
              "    </tr>\n",
              "    <tr>\n",
              "      <th>4</th>\n",
              "      <td>305</td>\n",
              "    </tr>\n",
              "    <tr>\n",
              "      <th rowspan=\"4\" valign=\"top\">Sales</th>\n",
              "      <th>1</th>\n",
              "      <td>86</td>\n",
              "    </tr>\n",
              "    <tr>\n",
              "      <th>2</th>\n",
              "      <td>98</td>\n",
              "    </tr>\n",
              "    <tr>\n",
              "      <th>3</th>\n",
              "      <td>135</td>\n",
              "    </tr>\n",
              "    <tr>\n",
              "      <th>4</th>\n",
              "      <td>127</td>\n",
              "    </tr>\n",
              "  </tbody>\n",
              "</table>\n",
              "</div>\n",
              "      <button class=\"colab-df-convert\" onclick=\"convertToInteractive('df-541633d6-dbd0-46a4-b8b6-7266154aaeb4')\"\n",
              "              title=\"Convert this dataframe to an interactive table.\"\n",
              "              style=\"display:none;\">\n",
              "        \n",
              "  <svg xmlns=\"http://www.w3.org/2000/svg\" height=\"24px\"viewBox=\"0 0 24 24\"\n",
              "       width=\"24px\">\n",
              "    <path d=\"M0 0h24v24H0V0z\" fill=\"none\"/>\n",
              "    <path d=\"M18.56 5.44l.94 2.06.94-2.06 2.06-.94-2.06-.94-.94-2.06-.94 2.06-2.06.94zm-11 1L8.5 8.5l.94-2.06 2.06-.94-2.06-.94L8.5 2.5l-.94 2.06-2.06.94zm10 10l.94 2.06.94-2.06 2.06-.94-2.06-.94-.94-2.06-.94 2.06-2.06.94z\"/><path d=\"M17.41 7.96l-1.37-1.37c-.4-.4-.92-.59-1.43-.59-.52 0-1.04.2-1.43.59L10.3 9.45l-7.72 7.72c-.78.78-.78 2.05 0 2.83L4 21.41c.39.39.9.59 1.41.59.51 0 1.02-.2 1.41-.59l7.78-7.78 2.81-2.81c.8-.78.8-2.07 0-2.86zM5.41 20L4 18.59l7.72-7.72 1.47 1.35L5.41 20z\"/>\n",
              "  </svg>\n",
              "      </button>\n",
              "      \n",
              "  <style>\n",
              "    .colab-df-container {\n",
              "      display:flex;\n",
              "      flex-wrap:wrap;\n",
              "      gap: 12px;\n",
              "    }\n",
              "\n",
              "    .colab-df-convert {\n",
              "      background-color: #E8F0FE;\n",
              "      border: none;\n",
              "      border-radius: 50%;\n",
              "      cursor: pointer;\n",
              "      display: none;\n",
              "      fill: #1967D2;\n",
              "      height: 32px;\n",
              "      padding: 0 0 0 0;\n",
              "      width: 32px;\n",
              "    }\n",
              "\n",
              "    .colab-df-convert:hover {\n",
              "      background-color: #E2EBFA;\n",
              "      box-shadow: 0px 1px 2px rgba(60, 64, 67, 0.3), 0px 1px 3px 1px rgba(60, 64, 67, 0.15);\n",
              "      fill: #174EA6;\n",
              "    }\n",
              "\n",
              "    [theme=dark] .colab-df-convert {\n",
              "      background-color: #3B4455;\n",
              "      fill: #D2E3FC;\n",
              "    }\n",
              "\n",
              "    [theme=dark] .colab-df-convert:hover {\n",
              "      background-color: #434B5C;\n",
              "      box-shadow: 0px 1px 3px 1px rgba(0, 0, 0, 0.15);\n",
              "      filter: drop-shadow(0px 1px 2px rgba(0, 0, 0, 0.3));\n",
              "      fill: #FFFFFF;\n",
              "    }\n",
              "  </style>\n",
              "\n",
              "      <script>\n",
              "        const buttonEl =\n",
              "          document.querySelector('#df-541633d6-dbd0-46a4-b8b6-7266154aaeb4 button.colab-df-convert');\n",
              "        buttonEl.style.display =\n",
              "          google.colab.kernel.accessAllowed ? 'block' : 'none';\n",
              "\n",
              "        async function convertToInteractive(key) {\n",
              "          const element = document.querySelector('#df-541633d6-dbd0-46a4-b8b6-7266154aaeb4');\n",
              "          const dataTable =\n",
              "            await google.colab.kernel.invokeFunction('convertToInteractive',\n",
              "                                                     [key], {});\n",
              "          if (!dataTable) return;\n",
              "\n",
              "          const docLinkHtml = 'Like what you see? Visit the ' +\n",
              "            '<a target=\"_blank\" href=https://colab.research.google.com/notebooks/data_table.ipynb>data table notebook</a>'\n",
              "            + ' to learn more about interactive tables.';\n",
              "          element.innerHTML = '';\n",
              "          dataTable['output_type'] = 'display_data';\n",
              "          await google.colab.output.renderOutput(dataTable, element);\n",
              "          const docLink = document.createElement('div');\n",
              "          docLink.innerHTML = docLinkHtml;\n",
              "          element.appendChild(docLink);\n",
              "        }\n",
              "      </script>\n",
              "    </div>\n",
              "  </div>\n",
              "  "
            ]
          },
          "metadata": {},
          "execution_count": 35
        }
      ]
    },
    {
      "cell_type": "code",
      "source": [
        "# Sumatoria de calificaciones por Departamento para conocer el total de empleados por Departamento\n",
        "Human_Resources = 11 + 12 + 26 + 14\n",
        "Research_Development\t= 187 + 177 + 292 + 305\n",
        "Sales = 86 + 98 +135 + 127\n",
        "print(f'El total de empleados del area de Human Resources es {Human_Resources}')\n",
        "print(f'El total de empleados del area de Research & Development {Research_Development}')\n",
        "print(f'El total de empleados del area de Sales es {Sales}')"
      ],
      "metadata": {
        "colab": {
          "base_uri": "https://localhost:8080/"
        },
        "id": "j739k-lq9We6",
        "outputId": "1e1d7539-84c8-4ee8-9b8e-9ea0e7046414"
      },
      "execution_count": 36,
      "outputs": [
        {
          "output_type": "stream",
          "name": "stdout",
          "text": [
            "El total de empleados del area de Human Resources es 63\n",
            "El total de empleados del area de Research & Development 961\n",
            "El total de empleados del area de Sales es 446\n"
          ]
        }
      ]
    },
    {
      "cell_type": "code",
      "source": [
        "# Procedo a generar un grafico de barras donde uso los valores obtenidos en el anterior analisis de agrupamiento con el metodo GroupBy para comparar el nivel de satisfacción por Departamento \n",
        "data = pd.DataFrame({'HumanResources' : [11, 12, 26, 14],\n",
        "                     'ResearchDevelopment': [187, 177, 292, 305],\n",
        "                     'Sales': [86, 98, 135, 127]},\n",
        "                    index=('Calificación tipo 1', 'Calificación tipo 2', 'Calificación tipo 3', 'Calificación tipo 4'))\n",
        "\n",
        "plt.ylabel(\"Cantidad de Empleados\")\n",
        "plt.xlabel(\"Califación segun el nivel de Satisfacción\")\n",
        "plt.title('Grafico de Satisfacción de Ambiente de Empleados por Departamento', fontdict={'family': 'serif', 'color' : 'darkgreen', 'weight': 'bold', 'size': 15})\n",
        "\n",
        "n = len(data.index)\n",
        "x = np.arange(n)\n",
        "width = 0.25\n",
        "\n",
        "plt.bar(x - width, data.HumanResources, width=width, label='Human Resources')\n",
        "plt.bar(x, data.ResearchDevelopment, width=width, label='Research & Development')\n",
        "plt.bar(x + width, data.Sales, width=width, label='Sales')\n",
        "plt.xticks(x, data.index)\n",
        "plt.legend(loc='best')\n",
        "plt.show()"
      ],
      "metadata": {
        "colab": {
          "base_uri": "https://localhost:8080/",
          "height": 738
        },
        "id": "2RX6m9u6Cmi9",
        "outputId": "58f407f6-7cb5-4862-d16c-5eebda0fa2dd"
      },
      "execution_count": 37,
      "outputs": [
        {
          "output_type": "display_data",
          "data": {
            "text/plain": [
              "<Figure size 1152x864 with 1 Axes>"
            ],
            "image/png": "[encoded data removed]"
          },
          "metadata": {}
        }
      ]
    },
    {
      "cell_type": "markdown",
      "source": [
        "# **Conclusión 3:**\n",
        "\n",
        "En este grafico de apilamiento en barras podemos verificar si existe alguna correlación entre los diferentes departamentos que componen el core la de empresa y en donde podemos evidenciar cual de estos es que se siente un mayor nivel de insatisfacción o satisfacción respecto al ambiente laboral.\n",
        "\n",
        "* En este caso más de la mitad de los empleados de la empresa, un **65,4%**,  pertenecen al departamento de Research & Development donde vemos un comportamiento de que la gran mayoria de los empleados de dicha area se sienten a gusto con el ambiente laboral resaltando que estan orientados a tener una calificación al alza hacia nivel 4. Que significa algo positivo para la empresa. \n",
        "\n",
        "*Pero es importante tener presente que para que la percepción positiva siga en aumento y se mantenga en dicha area, hay que aplicar estrategias y perfilar a ese 19.4% de empleados de Research & Development que no se sienten a gusto en su entorno de trabajo. Ya que recordermos se trata del area con mayor número de empleados.*\n",
        "\n",
        "* Donde podemos tambien identificar que esa tendencia positiva va en aumento es la segunda area más grande de la compañia que seria Sales, representado el **30.3%** de la fuerza del componente humano de la organización. \n",
        "\n",
        "*En esta se tienen unos 86 empleados, osea el **19.2%** del area. Que no se siente conformes con su ambiente laboral. Se consideraria diferentes acciones como aumento de comisiones o integraciones para que dicha percepción en este segmento de los empleados cambie hacia la tendencia positiva general de los demás de la organización.* \n",
        "\n",
        "\n",
        "*   Finalmente vemos que el departamento con menos personal es el de Human Resources. Pero a pesar de ello, quizas pueda ser el que mas preocupa por que las percepciones positivas de ambiente laboral no se sienten con tanta fuerza y el **17.4%** de los empleados del area no se sienten a gusto con su ambiente laboral. Inclusive podriamos percibir como una división interna del area.\n",
        "\n",
        "*Ya que a pesar de no ser tantas personas inquieta que no haya un buen ambiente en demasia y más tratandose del departamento que se supone debe promover estas practicas de convivencia y armonia, entre y hacia los demás equipos de trabajo. Se sugeriria que se revisen los lineamientos de si se tiene una sobre carga laboral o diferencia entre los procesos que esten llevando al interior.*\n",
        "\n",
        "\n",
        "\n",
        "\n"
      ],
      "metadata": {
        "id": "dJVti5jiOVT-"
      }
    },
    {
      "cell_type": "markdown",
      "source": [
        "\n",
        "\n",
        "---\n",
        "\n"
      ],
      "metadata": {
        "id": "VyOJ9BAwObcT"
      }
    },
    {
      "cell_type": "markdown",
      "source": [
        "# **Cuarto Análisis:**\n",
        "\n",
        "\n",
        "\n"
      ],
      "metadata": {
        "id": "4zYsmKg8OdDW"
      }
    },
    {
      "cell_type": "code",
      "source": [
        "# Generamos una agrupación de la calificación que dieron los empleados respecto a su perspectiva de partición en el trabajo organizado por edades\n",
        "df.groupby(['Age', 'JobInvolvement'])[['EmployeeCount']].sum()"
      ],
      "metadata": {
        "colab": {
          "base_uri": "https://localhost:8080/",
          "height": 455
        },
        "id": "Oo3KBUXobe8B",
        "outputId": "d109d972-0691-4502-b93f-391ed64d1baa"
      },
      "execution_count": 38,
      "outputs": [
        {
          "output_type": "execute_result",
          "data": {
            "text/plain": [
              "                    EmployeeCount\n",
              "Age JobInvolvement               \n",
              "18  2                           1\n",
              "    3                           7\n",
              "19  1                           1\n",
              "    2                           4\n",
              "    3                           3\n",
              "...                           ...\n",
              "59  4                           1\n",
              "60  1                           1\n",
              "    2                           1\n",
              "    3                           2\n",
              "    4                           1\n",
              "\n",
              "[158 rows x 1 columns]"
            ],
            "text/html": [
              "\n",
              "  <div id=\"df-92d6c1c4-7301-4461-a0f0-d2d3e96c5d97\">\n",
              "    <div class=\"colab-df-container\">\n",
              "      <div>\n",
              "<style scoped>\n",
              "    .dataframe tbody tr th:only-of-type {\n",
              "        vertical-align: middle;\n",
              "    }\n",
              "\n",
              "    .dataframe tbody tr th {\n",
              "        vertical-align: top;\n",
              "    }\n",
              "\n",
              "    .dataframe thead th {\n",
              "        text-align: right;\n",
              "    }\n",
              "</style>\n",
              "<table border=\"1\" class=\"dataframe\">\n",
              "  <thead>\n",
              "    <tr style=\"text-align: right;\">\n",
              "      <th></th>\n",
              "      <th></th>\n",
              "      <th>EmployeeCount</th>\n",
              "    </tr>\n",
              "    <tr>\n",
              "      <th>Age</th>\n",
              "      <th>JobInvolvement</th>\n",
              "      <th></th>\n",
              "    </tr>\n",
              "  </thead>\n",
              "  <tbody>\n",
              "    <tr>\n",
              "      <th rowspan=\"2\" valign=\"top\">18</th>\n",
              "      <th>2</th>\n",
              "      <td>1</td>\n",
              "    </tr>\n",
              "    <tr>\n",
              "      <th>3</th>\n",
              "      <td>7</td>\n",
              "    </tr>\n",
              "    <tr>\n",
              "      <th rowspan=\"3\" valign=\"top\">19</th>\n",
              "      <th>1</th>\n",
              "      <td>1</td>\n",
              "    </tr>\n",
              "    <tr>\n",
              "      <th>2</th>\n",
              "      <td>4</td>\n",
              "    </tr>\n",
              "    <tr>\n",
              "      <th>3</th>\n",
              "      <td>3</td>\n",
              "    </tr>\n",
              "    <tr>\n",
              "      <th>...</th>\n",
              "      <th>...</th>\n",
              "      <td>...</td>\n",
              "    </tr>\n",
              "    <tr>\n",
              "      <th>59</th>\n",
              "      <th>4</th>\n",
              "      <td>1</td>\n",
              "    </tr>\n",
              "    <tr>\n",
              "      <th rowspan=\"4\" valign=\"top\">60</th>\n",
              "      <th>1</th>\n",
              "      <td>1</td>\n",
              "    </tr>\n",
              "    <tr>\n",
              "      <th>2</th>\n",
              "      <td>1</td>\n",
              "    </tr>\n",
              "    <tr>\n",
              "      <th>3</th>\n",
              "      <td>2</td>\n",
              "    </tr>\n",
              "    <tr>\n",
              "      <th>4</th>\n",
              "      <td>1</td>\n",
              "    </tr>\n",
              "  </tbody>\n",
              "</table>\n",
              "<p>158 rows × 1 columns</p>\n",
              "</div>\n",
              "      <button class=\"colab-df-convert\" onclick=\"convertToInteractive('df-92d6c1c4-7301-4461-a0f0-d2d3e96c5d97')\"\n",
              "              title=\"Convert this dataframe to an interactive table.\"\n",
              "              style=\"display:none;\">\n",
              "        \n",
              "  <svg xmlns=\"http://www.w3.org/2000/svg\" height=\"24px\"viewBox=\"0 0 24 24\"\n",
              "       width=\"24px\">\n",
              "    <path d=\"M0 0h24v24H0V0z\" fill=\"none\"/>\n",
              "    <path d=\"M18.56 5.44l.94 2.06.94-2.06 2.06-.94-2.06-.94-.94-2.06-.94 2.06-2.06.94zm-11 1L8.5 8.5l.94-2.06 2.06-.94-2.06-.94L8.5 2.5l-.94 2.06-2.06.94zm10 10l.94 2.06.94-2.06 2.06-.94-2.06-.94-.94-2.06-.94 2.06-2.06.94z\"/><path d=\"M17.41 7.96l-1.37-1.37c-.4-.4-.92-.59-1.43-.59-.52 0-1.04.2-1.43.59L10.3 9.45l-7.72 7.72c-.78.78-.78 2.05 0 2.83L4 21.41c.39.39.9.59 1.41.59.51 0 1.02-.2 1.41-.59l7.78-7.78 2.81-2.81c.8-.78.8-2.07 0-2.86zM5.41 20L4 18.59l7.72-7.72 1.47 1.35L5.41 20z\"/>\n",
              "  </svg>\n",
              "      </button>\n",
              "      \n",
              "  <style>\n",
              "    .colab-df-container {\n",
              "      display:flex;\n",
              "      flex-wrap:wrap;\n",
              "      gap: 12px;\n",
              "    }\n",
              "\n",
              "    .colab-df-convert {\n",
              "      background-color: #E8F0FE;\n",
              "      border: none;\n",
              "      border-radius: 50%;\n",
              "      cursor: pointer;\n",
              "      display: none;\n",
              "      fill: #1967D2;\n",
              "      height: 32px;\n",
              "      padding: 0 0 0 0;\n",
              "      width: 32px;\n",
              "    }\n",
              "\n",
              "    .colab-df-convert:hover {\n",
              "      background-color: #E2EBFA;\n",
              "      box-shadow: 0px 1px 2px rgba(60, 64, 67, 0.3), 0px 1px 3px 1px rgba(60, 64, 67, 0.15);\n",
              "      fill: #174EA6;\n",
              "    }\n",
              "\n",
              "    [theme=dark] .colab-df-convert {\n",
              "      background-color: #3B4455;\n",
              "      fill: #D2E3FC;\n",
              "    }\n",
              "\n",
              "    [theme=dark] .colab-df-convert:hover {\n",
              "      background-color: #434B5C;\n",
              "      box-shadow: 0px 1px 3px 1px rgba(0, 0, 0, 0.15);\n",
              "      filter: drop-shadow(0px 1px 2px rgba(0, 0, 0, 0.3));\n",
              "      fill: #FFFFFF;\n",
              "    }\n",
              "  </style>\n",
              "\n",
              "      <script>\n",
              "        const buttonEl =\n",
              "          document.querySelector('#df-92d6c1c4-7301-4461-a0f0-d2d3e96c5d97 button.colab-df-convert');\n",
              "        buttonEl.style.display =\n",
              "          google.colab.kernel.accessAllowed ? 'block' : 'none';\n",
              "\n",
              "        async function convertToInteractive(key) {\n",
              "          const element = document.querySelector('#df-92d6c1c4-7301-4461-a0f0-d2d3e96c5d97');\n",
              "          const dataTable =\n",
              "            await google.colab.kernel.invokeFunction('convertToInteractive',\n",
              "                                                     [key], {});\n",
              "          if (!dataTable) return;\n",
              "\n",
              "          const docLinkHtml = 'Like what you see? Visit the ' +\n",
              "            '<a target=\"_blank\" href=https://colab.research.google.com/notebooks/data_table.ipynb>data table notebook</a>'\n",
              "            + ' to learn more about interactive tables.';\n",
              "          element.innerHTML = '';\n",
              "          dataTable['output_type'] = 'display_data';\n",
              "          await google.colab.output.renderOutput(dataTable, element);\n",
              "          const docLink = document.createElement('div');\n",
              "          docLink.innerHTML = docLinkHtml;\n",
              "          element.appendChild(docLink);\n",
              "        }\n",
              "      </script>\n",
              "    </div>\n",
              "  </div>\n",
              "  "
            ]
          },
          "metadata": {},
          "execution_count": 38
        }
      ]
    },
    {
      "cell_type": "code",
      "source": [
        "# Hago una conversión de los valores de la columna Age a un array en pandas para asignarle el resultado a una variable que represente uno de los ejes que usare en la grafica\n",
        "df_age = pd.DataFrame(df['Age'])\n",
        "y = df_age.to_numpy()\n",
        "print(y)"
      ],
      "metadata": {
        "colab": {
          "base_uri": "https://localhost:8080/"
        },
        "id": "lT8fbeprfue7",
        "outputId": "41ce93f3-3f35-4e13-c568-26b9a2ad43a2"
      },
      "execution_count": 39,
      "outputs": [
        {
          "output_type": "stream",
          "name": "stdout",
          "text": [
            "[[41]\n",
            " [49]\n",
            " [37]\n",
            " ...\n",
            " [27]\n",
            " [49]\n",
            " [34]]\n"
          ]
        }
      ]
    },
    {
      "cell_type": "code",
      "source": [
        "# Hago una conversión de los valores de la columna Age a un array en pandas para asignarle el resultado a una variable que represente uno de los ejes que usare en la grafica\n",
        "df_jobinv = pd.DataFrame(df['JobInvolvement'])\n",
        "x = df_jobinv.to_numpy()\n",
        "print(x)"
      ],
      "metadata": {
        "colab": {
          "base_uri": "https://localhost:8080/"
        },
        "id": "1CrCM5PsiBuI",
        "outputId": "8c65881c-df59-4782-8ee3-b9b3ca305090"
      },
      "execution_count": 40,
      "outputs": [
        {
          "output_type": "stream",
          "name": "stdout",
          "text": [
            "[[3]\n",
            " [2]\n",
            " [2]\n",
            " ...\n",
            " [4]\n",
            " [2]\n",
            " [4]]\n"
          ]
        }
      ]
    },
    {
      "cell_type": "code",
      "source": [
        "# Genero un gráfico para analizar la marcación de un patron que se relacione frente a la elección realizada por los empleados en los diferentes rangos de edad\n",
        "fig1 = plt.figure(dpi = 80)\n",
        "ax1 = fig1.add_subplot(1,2,1)\n",
        "ax1.plot(x, y, 'D-', color=\"orchid\", markerfacecolor=\"orange\")\n",
        "plt.ylabel(\"Edad de Empleados\")\n",
        "plt.xlabel(\"Califación Nivel de Partición en el trabajo\")\n",
        "ax1.axis([0,5,10,70])\n",
        "plt.show()"
      ],
      "metadata": {
        "colab": {
          "base_uri": "https://localhost:8080/",
          "height": 803
        },
        "id": "PtRMV0nrj6Qb",
        "outputId": "16d8edb4-85de-4d50-cdb1-6ec515cfe71d"
      },
      "execution_count": 41,
      "outputs": [
        {
          "output_type": "display_data",
          "data": {
            "text/plain": [
              "<Figure size 1280x960 with 1 Axes>"
            ],
            "image/png": "[encoded data removed]"
          },
          "metadata": {}
        }
      ]
    },
    {
      "cell_type": "markdown",
      "source": [
        "Conclusión 4:\n",
        "\n",
        "En este gráfico podemos evidenciar que hay una tendencia de patrón, definidad por la intensidad de los trazos entre la calificación de niveles 2 y 3 en cuanto al nivel de partición en el trabajo que sienten todos los diferentes empleados de la empresa.\n",
        "\n",
        "*Particularmente si analizamos la continuidad del patrón podremos identificar que los empleados con edades entre los 27 años y 45 años se sienten identificados con su trabajo o transmiten que su relación con su rol le da importancia a su autoestima y se siente util dentro de la organización.*\n",
        "\n",
        "La sensación de no inclusividad o poca motivación se siente con menos fuerza en empleados con edades jovenes como tipo 18 a 22 años, al igual que en personas mayores a los 55 años.\n",
        "\n",
        "Igual podemos remarcar algo importante y es que los que calificaron con un menor nivel su partición en el trabajo, fueron personas entre los 28 años y los 35 años, osea empleados de mediana edad. \n",
        "\n",
        "***Lo que nos llevaria a pensar que se podrian crear campañas de un enfoque a un publico adulto que les motive alcanzar nuevas metas o ascensos dentro de la compañia que les permita sentirse con un mejor nivel de participación.***\n",
        "\n",
        "Para el caso de las personas más jovenes y ya los más mayores, los factores pueden estar muy arraigados a la edad. \n",
        "\n",
        "Por ejemplo las pocas personas mayores de 55 años que se sienten con un bajo nivel de participación, puede estar sesgado por el tema del retiro u baja energia para sus actividades por tema de habitos de salud relacionados a la edad. Como para las personas muy jovenes, se sienten en esa búsqueda de inclusión o que quizas no se sientan tan motivados al ver tantas personas mayores que ellos y que sus posibilidad de promociones salariales o promociones a otros cargos se vean lejanas."
      ],
      "metadata": {
        "id": "9Y0ELi0_xmAA"
      }
    },
    {
      "cell_type": "markdown",
      "source": [
        "\n",
        "\n",
        "---\n",
        "\n"
      ],
      "metadata": {
        "id": "6J8j2EL_1PU-"
      }
    }
  ]
}